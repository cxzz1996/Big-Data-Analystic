{
 "cells": [
  {
   "cell_type": "markdown",
   "metadata": {},
   "source": [
    "#                            NI He & GUETARI Bader - Big Data Analytics -  Soccer dataset - BI2"
   ]
  },
  {
   "cell_type": "code",
   "execution_count": 1,
   "metadata": {},
   "outputs": [],
   "source": [
    "import os\n",
    "import matplotlib\n",
    "import numpy as np\n",
    "import pandas as pd \n",
    "import seaborn as sns\n",
    "import matplotlib.pyplot as plt\n",
    "from sklearn.preprocessing import scale"
   ]
  },
  {
   "cell_type": "markdown",
   "metadata": {},
   "source": [
    "# Part I - Data pre-processing and cleaning"
   ]
  },
  {
   "cell_type": "code",
   "execution_count": 2,
   "metadata": {},
   "outputs": [
    {
     "name": "stdout",
     "output_type": "stream",
     "text": [
      "['raw_data_1', 'raw_data_2', 'raw_data_3', 'raw_data_4', 'raw_data_5', 'raw_data_6', 'raw_data_7', 'raw_data_8', 'raw_data_9', 'raw_data_10', 'raw_data_11']\n",
      "['2010-11.csv', '2011-12.csv', '2012-13.csv', '2013-14.csv', '2014-15.csv', '2015-16.csv', '2016-17.csv', '2017-18.csv', '2018-19.csv', '2019-20.csv', '2020-21.csv']\n"
     ]
    }
   ],
   "source": [
    "loc = './/football2//'\n",
    "res_name = []  \n",
    "my_dict = {}\n",
    "filecsv_list = []  \n",
    "def file_name(file_name):\n",
    "    \n",
    "    for root,dirs,files in os.walk(file_name):\n",
    "        files.sort() \n",
    "        for i,file in enumerate(files):\n",
    "            if os.path.splitext(file)[1] == '.csv':\n",
    "                filecsv_list.append(file)\n",
    "                res_name.append('raw_data_'+str(i+1))\n",
    "                my_dict[i+1]= file.replace('.csv', '')\n",
    "    print(res_name)\n",
    "    print(filecsv_list)\n",
    "file_name(loc)"
   ]
  },
  {
   "cell_type": "code",
   "execution_count": 3,
   "metadata": {},
   "outputs": [
    {
     "data": {
      "text/plain": [
       "['2010',\n",
       " '2011',\n",
       " '2012',\n",
       " '2013',\n",
       " '2014',\n",
       " '2015',\n",
       " '2016',\n",
       " '2017',\n",
       " '2018',\n",
       " '2019',\n",
       " '2020']"
      ]
     },
     "execution_count": 3,
     "metadata": {},
     "output_type": "execute_result"
    }
   ],
   "source": [
    "time_list = [filecsv_list[i][0:4]  for i in range(len(filecsv_list))]\n",
    "time_list"
   ]
  },
  {
   "cell_type": "code",
   "execution_count": 4,
   "metadata": {
    "scrolled": true
   },
   "outputs": [
    {
     "name": "stdout",
     "output_type": "stream",
     "text": [
      "the 1 document is 2010-11.csv,size is (380, 71)\n",
      "the 2 document is 2011-12.csv,size is (380, 71)\n",
      "the 3 document is 2012-13.csv,size is (380, 74)\n",
      "the 4 document is 2013-14.csv,size is (380, 68)\n",
      "the 5 document is 2014-15.csv,size is (381, 68)\n",
      "the 6 document is 2015-16.csv,size is (380, 65)\n",
      "the 7 document is 2016-17.csv,size is (380, 65)\n",
      "the 8 document is 2017-18.csv,size is (380, 65)\n",
      "the 9 document is 2018-19.csv,size is (380, 62)\n",
      "the10 document is 2019-20.csv,size is (380, 106)\n",
      "the11 document is 2020-21.csv,size is (170, 106)\n"
     ]
    }
   ],
   "source": [
    "for i in range(len(res_name)):\n",
    "    res_name[i] = pd.read_csv(loc+filecsv_list[i],error_bad_lines=False)\n",
    "    print('the%2s document is %s,size is %s'%(i+1,filecsv_list[i],res_name[i].shape))"
   ]
  },
  {
   "cell_type": "markdown",
   "metadata": {},
   "source": [
    "### Here we drop the csv which are not composed of 380 lines"
   ]
  },
  {
   "cell_type": "code",
   "execution_count": 5,
   "metadata": {},
   "outputs": [
    {
     "name": "stdout",
     "output_type": "stream",
     "text": [
      "the drop data is：2020，csv：res_name[11] size：(170, 106)\n",
      "the drop data is：2014，csv：res_name[5] size：(381, 68)\n"
     ]
    }
   ],
   "source": [
    "for i in range(len(res_name),0,-1): \n",
    "    if res_name[i-1].shape[0] != 380:\n",
    "        key = 'res_name[' + str(i) + ']'\n",
    "        print('the drop data is：%s，csv：%s size：%s'%(time_list[i-1],key,res_name[i-1].shape))\n",
    "        res_name.pop(i-1)\n",
    "        time_list.pop(i-1)\n",
    "        continue"
   ]
  },
  {
   "cell_type": "code",
   "execution_count": 6,
   "metadata": {
    "scrolled": true
   },
   "outputs": [
    {
     "data": {
      "text/plain": [
       "array(['Aston Villa', 'Blackburn', 'Bolton', 'Chelsea', 'Sunderland',\n",
       "       'Tottenham', 'Wigan', 'Wolves', 'Liverpool', 'Man United',\n",
       "       'Arsenal', 'Birmingham', 'Everton', 'Stoke', 'West Brom',\n",
       "       'West Ham', 'Fulham', 'Newcastle', 'Man City', 'Blackpool'],\n",
       "      dtype=object)"
      ]
     },
     "execution_count": 6,
     "metadata": {},
     "output_type": "execute_result"
    }
   ],
   "source": [
    "res_name[0]['HomeTeam'].unique()"
   ]
  },
  {
   "cell_type": "markdown",
   "metadata": {},
   "source": [
    "### Get the maximum number of columns in the list header and then the getter parameter"
   ]
  },
  {
   "cell_type": "code",
   "execution_count": 7,
   "metadata": {},
   "outputs": [
    {
     "name": "stdout",
     "output_type": "stream",
     "text": [
      "2019 data is available in the maximum number of columns:106,Column element table header：\n",
      " Index(['Div', 'Date', 'Time', 'HomeTeam', 'AwayTeam', 'FTHG', 'FTAG', 'FTR',\n",
      "       'HTHG', 'HTAG',\n",
      "       ...\n",
      "       'AvgC<2.5', 'AHCh', 'B365CAHH', 'B365CAHA', 'PCAHH', 'PCAHA', 'MaxCAHH',\n",
      "       'MaxCAHA', 'AvgCAHH', 'AvgCAHA'],\n",
      "      dtype='object', length=106)\n"
     ]
    }
   ],
   "source": [
    "shape_list = [res_name[i].shape[1] for i in range(len(res_name))]\n",
    "for i in range(len(res_name)):\n",
    "    if res_name[i].shape[1] == max(shape_list):\n",
    "        print('%s data is available in the maximum number of columns:%s,Column element table header：\\n %s'%(time_list[i],max(shape_list),res_name[i].columns))"
   ]
  },
  {
   "cell_type": "markdown",
   "metadata": {},
   "source": [
    "# Pre-processing and cleanning steps with features\n",
    "\n",
    "### Data cleaning and pre-processing\n",
    "\n",
    "\n",
    "Select information column\n",
    "\n",
    "HomeTeam: Home team name\n",
    "\n",
    "AwayTeam: Name of the away team\n",
    "\n",
    "FTHG: All-time home team goals scored\n",
    "\n",
    "FTAG: Full match away team goals scored\n",
    "\n",
    "FTR: Match Result ( H= Home win, D= Draw, A= Away win)"
   ]
  },
  {
   "cell_type": "code",
   "execution_count": 8,
   "metadata": {},
   "outputs": [
    {
     "name": "stdout",
     "output_type": "stream",
     "text": [
      "2010 playing_statistics[0] (380, 6)\n",
      "2011 playing_statistics[1] (380, 6)\n",
      "2012 playing_statistics[2] (380, 6)\n",
      "2013 playing_statistics[3] (380, 6)\n",
      "2015 playing_statistics[4] (380, 6)\n",
      "2016 playing_statistics[5] (380, 6)\n",
      "2017 playing_statistics[6] (380, 6)\n",
      "2018 playing_statistics[7] (380, 6)\n",
      "2019 playing_statistics[8] (380, 6)\n"
     ]
    }
   ],
   "source": [
    "# Put the selected information in a new list\n",
    "columns_req = ['HomeTeam','AwayTeam','Date','FTHG','FTAG','FTR']\n",
    "playing_statistics = []   # Create a repository for processed data names\n",
    "playing_data = {}  # Key-value pairs to store data\n",
    "for i in range(len(res_name)):\n",
    "    playing_statistics.append('playing_statistics_'+str(i+1))\n",
    "    playing_statistics[i] = res_name[i][columns_req]\n",
    "    print(time_list[i],'playing_statistics['+str(i)+']',playing_statistics[i].shape)\n"
   ]
  },
  {
   "cell_type": "code",
   "execution_count": 9,
   "metadata": {},
   "outputs": [
    {
     "name": "stdout",
     "output_type": "stream",
     "text": [
      "2010 year the accuracy of the home “shutout” prediction is0.4710526315789474\n",
      "2011 year the accuracy of the home “shutout” prediction is0.45\n",
      "2012 year the accuracy of the home “shutout” prediction is0.4368421052631579\n",
      "2013 year the accuracy of the home “shutout” prediction is0.4710526315789474\n",
      "2015 year the accuracy of the home “shutout” prediction is0.4131578947368421\n",
      "2016 year the accuracy of the home “shutout” prediction is0.4921052631578947\n",
      "2017 year the accuracy of the home “shutout” prediction is0.45526315789473687\n",
      "2018 year the accuracy of the home “shutout” prediction is0.4763157894736842\n",
      "2019 year the accuracy of the home “shutout” prediction is0.45263157894736844\n",
      "all 9 years average accuracy is：0.4576023391812865\n"
     ]
    }
   ],
   "source": [
    "#We first predict that all home teams will win, and then we predict that all away teams will win, and compare the results:\n",
    "def predictions_0(data):\n",
    "    \"\"\" \n",
    "    When we count all home teams winning, what is our predicted result\n",
    "    The return value is the predicted value and the actual value\n",
    "    \"\"\"\n",
    "    predictions = []\n",
    "    for _, game in data.iterrows():\n",
    "        \n",
    "        if game['FTR']=='H':\n",
    "            predictions.append(1)\n",
    "        else:\n",
    "            predictions.append(0)\n",
    "    # return predicted result\n",
    "    return pd.Series(predictions)\n",
    "\n",
    "# Then we predict the results of all 9 years of home teams winning to get the accuracy of the prediction.\n",
    "avg_acc_sum = 0\n",
    "for i in range(len(playing_statistics)):\n",
    "    predictions = predictions_0(playing_statistics[i])\n",
    "    acc=sum(predictions)/len(playing_statistics[i])\n",
    "    avg_acc_sum += acc\n",
    "    print(\"%s year the accuracy of the home “shutout” prediction is%s\"%(time_list[i],acc))\n",
    "print('all %s years average accuracy is：%s'%(len(playing_statistics),avg_acc_sum/len(playing_statistics)))"
   ]
  },
  {
   "cell_type": "markdown",
   "metadata": {},
   "source": [
    "### Accuracy of statistics that all away teams will win"
   ]
  },
  {
   "cell_type": "code",
   "execution_count": 10,
   "metadata": {},
   "outputs": [
    {
     "name": "stdout",
     "output_type": "stream",
     "text": [
      "2010 year the accuracy of the away “shutout” prediction is0.23684210526315788\n",
      "2011 year the accuracy of the away “shutout” prediction is0.30526315789473685\n",
      "2012 year the accuracy of the away “shutout” prediction is0.2789473684210526\n",
      "2013 year the accuracy of the away “shutout” prediction is0.3236842105263158\n",
      "2015 year the accuracy of the away “shutout” prediction is0.30526315789473685\n",
      "2016 year the accuracy of the away “shutout” prediction is0.2868421052631579\n",
      "2017 year the accuracy of the away “shutout” prediction is0.28421052631578947\n",
      "2018 year the accuracy of the away “shutout” prediction is0.3368421052631579\n",
      "2019 year the accuracy of the away “shutout” prediction is0.30526315789473685\n",
      "all 9 years average accuracy is：0.29590643274853806\n",
      "so we can see that the probability of a home win is indeed greater than that of a loss or a draw\n"
     ]
    }
   ],
   "source": [
    "def predictions_1(data):\n",
    "    \"\"\" \n",
    "    When we count all away teams winning, what is our predicted result\n",
    "    The return value is the predicted value and the actual value\n",
    "    \"\"\"\n",
    "    predictions = []\n",
    "    for _, game in data.iterrows():\n",
    "        \n",
    "        if game['FTR']=='A':\n",
    "            predictions.append(1)\n",
    "        else:\n",
    "            predictions.append(0)\n",
    "    return pd.Series(predictions)\n",
    "avg_acc_sum = 0\n",
    "for i in range(len(playing_statistics)):\n",
    "    predictions = predictions_1(playing_statistics[i])\n",
    "    acc=sum(predictions)/len(playing_statistics[i])\n",
    "    avg_acc_sum += acc\n",
    "    print(\"%s year the accuracy of the away “shutout” prediction is%s\"%(time_list[i],acc))\n",
    "print('all %s years average accuracy is：%s'%(len(playing_statistics),avg_acc_sum / len(playing_statistics)))\n",
    "\n",
    "print('so we can see that the probability of a home win is indeed greater than that of a loss or a draw')"
   ]
  },
  {
   "cell_type": "markdown",
   "metadata": {},
   "source": [
    "### Structural Features\n",
    "\n",
    "**Calculate the net goal difference per team per week**"
   ]
  },
  {
   "cell_type": "code",
   "execution_count": 11,
   "metadata": {
    "scrolled": true
   },
   "outputs": [
    {
     "name": "stderr",
     "output_type": "stream",
     "text": [
      "d:\\nasdaq\\venv\\lib\\site-packages\\pandas\\core\\indexing.py:1596: SettingWithCopyWarning: \n",
      "A value is trying to be set on a copy of a slice from a DataFrame.\n",
      "Try using .loc[row_indexer,col_indexer] = value instead\n",
      "\n",
      "See the caveats in the documentation: https://pandas.pydata.org/pandas-docs/stable/user_guide/indexing.html#returning-a-view-versus-a-copy\n",
      "  self.obj[key] = value\n",
      "d:\\nasdaq\\venv\\lib\\site-packages\\pandas\\core\\indexing.py:1675: SettingWithCopyWarning: \n",
      "A value is trying to be set on a copy of a slice from a DataFrame.\n",
      "Try using .loc[row_indexer,col_indexer] = value instead\n",
      "\n",
      "See the caveats in the documentation: https://pandas.pydata.org/pandas-docs/stable/user_guide/indexing.html#returning-a-view-versus-a-copy\n",
      "  self._setitem_single_column(ilocs[0], value, pi)\n"
     ]
    },
    {
     "name": "stdout",
     "output_type": "stream",
     "text": [
      "we can find until the number 378 match .West Ham net goals is -24\n"
     ]
    },
    {
     "data": {
      "text/html": [
       "<div>\n",
       "<style scoped>\n",
       "    .dataframe tbody tr th:only-of-type {\n",
       "        vertical-align: middle;\n",
       "    }\n",
       "\n",
       "    .dataframe tbody tr th {\n",
       "        vertical-align: top;\n",
       "    }\n",
       "\n",
       "    .dataframe thead th {\n",
       "        text-align: right;\n",
       "    }\n",
       "</style>\n",
       "<table border=\"1\" class=\"dataframe\">\n",
       "  <thead>\n",
       "    <tr style=\"text-align: right;\">\n",
       "      <th></th>\n",
       "      <th>HomeTeam</th>\n",
       "      <th>AwayTeam</th>\n",
       "      <th>Date</th>\n",
       "      <th>FTHG</th>\n",
       "      <th>FTAG</th>\n",
       "      <th>FTR</th>\n",
       "      <th>HTGD</th>\n",
       "      <th>ATGD</th>\n",
       "    </tr>\n",
       "  </thead>\n",
       "  <tbody>\n",
       "    <tr>\n",
       "      <th>375</th>\n",
       "      <td>Newcastle</td>\n",
       "      <td>West Brom</td>\n",
       "      <td>22/05/11</td>\n",
       "      <td>3</td>\n",
       "      <td>3</td>\n",
       "      <td>D</td>\n",
       "      <td>-1</td>\n",
       "      <td>-15</td>\n",
       "    </tr>\n",
       "    <tr>\n",
       "      <th>376</th>\n",
       "      <td>Stoke</td>\n",
       "      <td>Wigan</td>\n",
       "      <td>22/05/11</td>\n",
       "      <td>0</td>\n",
       "      <td>1</td>\n",
       "      <td>A</td>\n",
       "      <td>-1</td>\n",
       "      <td>-22</td>\n",
       "    </tr>\n",
       "    <tr>\n",
       "      <th>377</th>\n",
       "      <td>Tottenham</td>\n",
       "      <td>Birmingham</td>\n",
       "      <td>22/05/11</td>\n",
       "      <td>2</td>\n",
       "      <td>1</td>\n",
       "      <td>H</td>\n",
       "      <td>8</td>\n",
       "      <td>-20</td>\n",
       "    </tr>\n",
       "    <tr>\n",
       "      <th>378</th>\n",
       "      <td>West Ham</td>\n",
       "      <td>Sunderland</td>\n",
       "      <td>22/05/11</td>\n",
       "      <td>0</td>\n",
       "      <td>3</td>\n",
       "      <td>A</td>\n",
       "      <td>-24</td>\n",
       "      <td>-14</td>\n",
       "    </tr>\n",
       "    <tr>\n",
       "      <th>379</th>\n",
       "      <td>Wolves</td>\n",
       "      <td>Blackburn</td>\n",
       "      <td>22/05/11</td>\n",
       "      <td>2</td>\n",
       "      <td>3</td>\n",
       "      <td>A</td>\n",
       "      <td>-19</td>\n",
       "      <td>-14</td>\n",
       "    </tr>\n",
       "  </tbody>\n",
       "</table>\n",
       "</div>"
      ],
      "text/plain": [
       "      HomeTeam    AwayTeam      Date  FTHG  FTAG FTR  HTGD  ATGD\n",
       "375  Newcastle   West Brom  22/05/11     3     3   D    -1   -15\n",
       "376      Stoke       Wigan  22/05/11     0     1   A    -1   -22\n",
       "377  Tottenham  Birmingham  22/05/11     2     1   H     8   -20\n",
       "378   West Ham  Sunderland  22/05/11     0     3   A   -24   -14\n",
       "379     Wolves   Blackburn  22/05/11     2     3   A   -19   -14"
      ]
     },
     "execution_count": 11,
     "metadata": {},
     "output_type": "execute_result"
    }
   ],
   "source": [
    "def get_goals_diff(playing_stat):\n",
    "    # Create a dictionary with the name of each team as the key\n",
    "    teams = {}\n",
    "    for i in playing_stat.groupby('HomeTeam').mean().T.columns:\n",
    "        teams[i] = []\n",
    "    # for each match\n",
    "    for i in range(len(playing_stat)):\n",
    "        # Full-Time,HostTeam goals\n",
    "        HTGS = playing_stat.iloc[i]['FTHG']\n",
    "        # Full_Time,AwayTeam goals\n",
    "        ATGS = playing_stat.iloc[i]['FTAG']\n",
    "\n",
    "        # Add the goal difference of the home team to the corresponding home team in the team dictionary\n",
    "        teams[playing_stat.iloc[i].HomeTeam].append(HTGS-ATGS)\n",
    "        # Add the goal difference of the away team to the corresponding away team in the team dictionary\n",
    "        teams[playing_stat.iloc[i].AwayTeam].append(ATGS-HTGS)\n",
    "\n",
    "    # Create a dataframe of GoalsDifference\n",
    "    # rows are team columns are matchweek,\n",
    "    # 39 Explanation: 19 teams, each team is divided into home and away 2 times, a total of 38 matches\n",
    "    # But the range can not take the last value, so 38 + 1 = 39\n",
    "    GoalsDifference = pd.DataFrame(data=teams, index = [i for i in range(1,39)]).T\n",
    "    GoalsDifference[0] = 0\n",
    "    # Add up the goal difference of each team's weekly matches\n",
    "    for i in range(2,39):\n",
    "        GoalsDifference[i] = GoalsDifference[i] + GoalsDifference[i-1]\n",
    "    return GoalsDifference\n",
    "\n",
    "def get_gss(playing_stat):\n",
    "    # Get goal difference statistics\n",
    "    GD = get_goals_diff(playing_stat)\n",
    "    j = 0\n",
    "    #  Goal difference between home and away games\n",
    "    HTGD = []\n",
    "    ATGD = []\n",
    "    # Total 380 matches in one year\n",
    "    for i in range(380):\n",
    "        ht = playing_stat.iloc[i].HomeTeam\n",
    "        at = playing_stat.iloc[i].AwayTeam\n",
    "        HTGD.append(GD.loc[ht][j])\n",
    "        ATGD.append(GD.loc[at][j])\n",
    "        if ((i + 1)% 10) == 0:\n",
    "            j = j + 1\n",
    "    # Add the HTGD ATGD information for each team to the dataframe\n",
    "    playing_stat.loc[:,'HTGD'] = HTGD\n",
    "    playing_stat.loc[:,'ATGD'] = ATGD\n",
    "    return playing_stat\n",
    "\n",
    "for i in range(len(playing_statistics)):\n",
    "    playing_statistics[i] = get_gss(playing_statistics[i])\n",
    "\n",
    "print('we can find until the number 378 match .West Ham net goals is -24')\n",
    "playing_statistics[0].tail()\n"
   ]
  },
  {
   "cell_type": "markdown",
   "metadata": {},
   "source": [
    "### Statistics of cumulative goals by home and away teams up to the current game week"
   ]
  },
  {
   "cell_type": "code",
   "execution_count": 12,
   "metadata": {},
   "outputs": [
    {
     "name": "stderr",
     "output_type": "stream",
     "text": [
      "d:\\nasdaq\\venv\\lib\\site-packages\\pandas\\core\\indexing.py:1596: SettingWithCopyWarning: \n",
      "A value is trying to be set on a copy of a slice from a DataFrame.\n",
      "Try using .loc[row_indexer,col_indexer] = value instead\n",
      "\n",
      "See the caveats in the documentation: https://pandas.pydata.org/pandas-docs/stable/user_guide/indexing.html#returning-a-view-versus-a-copy\n",
      "  self.obj[key] = value\n",
      "d:\\nasdaq\\venv\\lib\\site-packages\\pandas\\core\\indexing.py:1675: SettingWithCopyWarning: \n",
      "A value is trying to be set on a copy of a slice from a DataFrame.\n",
      "Try using .loc[row_indexer,col_indexer] = value instead\n",
      "\n",
      "See the caveats in the documentation: https://pandas.pydata.org/pandas-docs/stable/user_guide/indexing.html#returning-a-view-versus-a-copy\n",
      "  self._setitem_single_column(ilocs[0], value, pi)\n"
     ]
    },
    {
     "data": {
      "text/html": [
       "<div>\n",
       "<style scoped>\n",
       "    .dataframe tbody tr th:only-of-type {\n",
       "        vertical-align: middle;\n",
       "    }\n",
       "\n",
       "    .dataframe tbody tr th {\n",
       "        vertical-align: top;\n",
       "    }\n",
       "\n",
       "    .dataframe thead th {\n",
       "        text-align: right;\n",
       "    }\n",
       "</style>\n",
       "<table border=\"1\" class=\"dataframe\">\n",
       "  <thead>\n",
       "    <tr style=\"text-align: right;\">\n",
       "      <th></th>\n",
       "      <th>HomeTeam</th>\n",
       "      <th>AwayTeam</th>\n",
       "      <th>Date</th>\n",
       "      <th>FTHG</th>\n",
       "      <th>FTAG</th>\n",
       "      <th>FTR</th>\n",
       "      <th>HTGD</th>\n",
       "      <th>ATGD</th>\n",
       "      <th>HTP</th>\n",
       "      <th>ATP</th>\n",
       "    </tr>\n",
       "  </thead>\n",
       "  <tbody>\n",
       "    <tr>\n",
       "      <th>375</th>\n",
       "      <td>Newcastle</td>\n",
       "      <td>West Brom</td>\n",
       "      <td>22/05/11</td>\n",
       "      <td>3</td>\n",
       "      <td>3</td>\n",
       "      <td>D</td>\n",
       "      <td>-1</td>\n",
       "      <td>-15</td>\n",
       "      <td>45</td>\n",
       "      <td>46</td>\n",
       "    </tr>\n",
       "    <tr>\n",
       "      <th>376</th>\n",
       "      <td>Stoke</td>\n",
       "      <td>Wigan</td>\n",
       "      <td>22/05/11</td>\n",
       "      <td>0</td>\n",
       "      <td>1</td>\n",
       "      <td>A</td>\n",
       "      <td>-1</td>\n",
       "      <td>-22</td>\n",
       "      <td>46</td>\n",
       "      <td>39</td>\n",
       "    </tr>\n",
       "    <tr>\n",
       "      <th>377</th>\n",
       "      <td>Tottenham</td>\n",
       "      <td>Birmingham</td>\n",
       "      <td>22/05/11</td>\n",
       "      <td>2</td>\n",
       "      <td>1</td>\n",
       "      <td>H</td>\n",
       "      <td>8</td>\n",
       "      <td>-20</td>\n",
       "      <td>59</td>\n",
       "      <td>39</td>\n",
       "    </tr>\n",
       "    <tr>\n",
       "      <th>378</th>\n",
       "      <td>West Ham</td>\n",
       "      <td>Sunderland</td>\n",
       "      <td>22/05/11</td>\n",
       "      <td>0</td>\n",
       "      <td>3</td>\n",
       "      <td>A</td>\n",
       "      <td>-24</td>\n",
       "      <td>-14</td>\n",
       "      <td>33</td>\n",
       "      <td>44</td>\n",
       "    </tr>\n",
       "    <tr>\n",
       "      <th>379</th>\n",
       "      <td>Wolves</td>\n",
       "      <td>Blackburn</td>\n",
       "      <td>22/05/11</td>\n",
       "      <td>2</td>\n",
       "      <td>3</td>\n",
       "      <td>A</td>\n",
       "      <td>-19</td>\n",
       "      <td>-14</td>\n",
       "      <td>40</td>\n",
       "      <td>40</td>\n",
       "    </tr>\n",
       "  </tbody>\n",
       "</table>\n",
       "</div>"
      ],
      "text/plain": [
       "      HomeTeam    AwayTeam      Date  FTHG  FTAG FTR  HTGD  ATGD  HTP  ATP\n",
       "375  Newcastle   West Brom  22/05/11     3     3   D    -1   -15   45   46\n",
       "376      Stoke       Wigan  22/05/11     0     1   A    -1   -22   46   39\n",
       "377  Tottenham  Birmingham  22/05/11     2     1   H     8   -20   59   39\n",
       "378   West Ham  Sunderland  22/05/11     0     3   A   -24   -14   33   44\n",
       "379     Wolves   Blackburn  22/05/11     2     3   A   -19   -14   40   40"
      ]
     },
     "execution_count": 12,
     "metadata": {},
     "output_type": "execute_result"
    }
   ],
   "source": [
    "#Convert the result of the game into points, \n",
    "# W 3 points\n",
    "# D 1 points\n",
    "# L 0 points\n",
    "\n",
    "def get_points(result):\n",
    "    if result == 'W':\n",
    "        return 3\n",
    "    elif result == 'D':\n",
    "        return 1\n",
    "    else:\n",
    "        return 0\n",
    "    \n",
    "def get_cuml_points(matchres):\n",
    "    matchres_points = matchres.applymap(get_points)\n",
    "    for i in range(2,39):\n",
    "        matchres_points[i] = matchres_points[i] + matchres_points[i-1]\n",
    "    matchres_points.insert(column =0, loc = 0, value = [0*i for i in range(20)])\n",
    "    return matchres_points\n",
    "\n",
    "def get_matchres(playing_stat):\n",
    "    \n",
    "    teams = {}\n",
    "    for i in playing_stat.groupby('HomeTeam').mean().T.columns:\n",
    "        teams[i] = []\n",
    "    \n",
    "    for i in range(len(playing_stat)):\n",
    "        if playing_stat.iloc[i].FTR == 'H':\n",
    "            # HomeTeam win\n",
    "            # HomeTeam W, and AwayTeam L\n",
    "            teams[playing_stat.iloc[i].HomeTeam].append('W')\n",
    "            teams[playing_stat.iloc[i].AwayTeam].append('L')\n",
    "        elif playing_stat.iloc[i].FTR == 'A':\n",
    "            # AwayTeam win\n",
    "            # HomeTeam L and AwayTeam W\n",
    "            teams[playing_stat.iloc[i].AwayTeam].append('W')\n",
    "            teams[playing_stat.iloc[i].HomeTeam].append('L')\n",
    "        else:\n",
    "            # Tie\n",
    "            teams[playing_stat.iloc[i].AwayTeam].append('D')\n",
    "            teams[playing_stat.iloc[i].HomeTeam].append('D')\n",
    "    return pd.DataFrame(data=teams, index = [i for i in range(1,39)]).T\n",
    "\n",
    "def get_agg_points(playing_stat):\n",
    "    matchres = get_matchres(playing_stat)\n",
    "    cum_pts = get_cuml_points(matchres)\n",
    "    HTP = []\n",
    "    ATP = []\n",
    "    j = 0\n",
    "    for i in range(380):\n",
    "        ht = playing_stat.iloc[i].HomeTeam\n",
    "        at = playing_stat.iloc[i].AwayTeam\n",
    "        HTP.append(cum_pts.loc[ht][j])\n",
    "        ATP.append(cum_pts.loc[at][j])\n",
    "\n",
    "        if ((i + 1)% 10) == 0:\n",
    "            j = j + 1\n",
    "    # Cumulative Home Score\n",
    "    playing_stat.loc[:,'HTP'] = HTP\n",
    "    # Cumulative Away Score\n",
    "    playing_stat.loc[:,'ATP'] = ATP\n",
    "    return playing_stat\n",
    "\n",
    "for i in range(len(playing_statistics)):\n",
    "    playing_statistics[i] = get_agg_points(playing_statistics[i])\n",
    "    \n",
    "\n",
    "playing_statistics[0].tail()"
   ]
  },
  {
   "cell_type": "markdown",
   "metadata": {},
   "source": [
    "### Statistics of a team's performance in the last three matches\n",
    "\n",
    "***HM1 stands for the home team's last game won or lost.***\n",
    "\n",
    "***AM1 represents the last match won or lost by the away team.***"
   ]
  },
  {
   "cell_type": "code",
   "execution_count": 13,
   "metadata": {},
   "outputs": [
    {
     "name": "stderr",
     "output_type": "stream",
     "text": [
      "<ipython-input-13-50c21c054388>:31: SettingWithCopyWarning: \n",
      "A value is trying to be set on a copy of a slice from a DataFrame.\n",
      "Try using .loc[row_indexer,col_indexer] = value instead\n",
      "\n",
      "See the caveats in the documentation: https://pandas.pydata.org/pandas-docs/stable/user_guide/indexing.html#returning-a-view-versus-a-copy\n",
      "  playing_stat['HM' + str(num)] = h\n",
      "<ipython-input-13-50c21c054388>:32: SettingWithCopyWarning: \n",
      "A value is trying to be set on a copy of a slice from a DataFrame.\n",
      "Try using .loc[row_indexer,col_indexer] = value instead\n",
      "\n",
      "See the caveats in the documentation: https://pandas.pydata.org/pandas-docs/stable/user_guide/indexing.html#returning-a-view-versus-a-copy\n",
      "  playing_stat['AM' + str(num)] = a\n"
     ]
    },
    {
     "data": {
      "text/html": [
       "<div>\n",
       "<style scoped>\n",
       "    .dataframe tbody tr th:only-of-type {\n",
       "        vertical-align: middle;\n",
       "    }\n",
       "\n",
       "    .dataframe tbody tr th {\n",
       "        vertical-align: top;\n",
       "    }\n",
       "\n",
       "    .dataframe thead th {\n",
       "        text-align: right;\n",
       "    }\n",
       "</style>\n",
       "<table border=\"1\" class=\"dataframe\">\n",
       "  <thead>\n",
       "    <tr style=\"text-align: right;\">\n",
       "      <th></th>\n",
       "      <th>HomeTeam</th>\n",
       "      <th>AwayTeam</th>\n",
       "      <th>Date</th>\n",
       "      <th>FTHG</th>\n",
       "      <th>FTAG</th>\n",
       "      <th>FTR</th>\n",
       "      <th>HTGD</th>\n",
       "      <th>ATGD</th>\n",
       "      <th>HTP</th>\n",
       "      <th>ATP</th>\n",
       "      <th>HM1</th>\n",
       "      <th>AM1</th>\n",
       "      <th>HM2</th>\n",
       "      <th>AM2</th>\n",
       "      <th>HM3</th>\n",
       "      <th>AM3</th>\n",
       "    </tr>\n",
       "  </thead>\n",
       "  <tbody>\n",
       "    <tr>\n",
       "      <th>375</th>\n",
       "      <td>Newcastle</td>\n",
       "      <td>West Brom</td>\n",
       "      <td>22/05/11</td>\n",
       "      <td>3</td>\n",
       "      <td>3</td>\n",
       "      <td>D</td>\n",
       "      <td>-1</td>\n",
       "      <td>-15</td>\n",
       "      <td>45</td>\n",
       "      <td>46</td>\n",
       "      <td>D</td>\n",
       "      <td>W</td>\n",
       "      <td>W</td>\n",
       "      <td>L</td>\n",
       "      <td>L</td>\n",
       "      <td>W</td>\n",
       "    </tr>\n",
       "    <tr>\n",
       "      <th>376</th>\n",
       "      <td>Stoke</td>\n",
       "      <td>Wigan</td>\n",
       "      <td>22/05/11</td>\n",
       "      <td>0</td>\n",
       "      <td>1</td>\n",
       "      <td>A</td>\n",
       "      <td>-1</td>\n",
       "      <td>-22</td>\n",
       "      <td>46</td>\n",
       "      <td>39</td>\n",
       "      <td>L</td>\n",
       "      <td>W</td>\n",
       "      <td>W</td>\n",
       "      <td>D</td>\n",
       "      <td>D</td>\n",
       "      <td>D</td>\n",
       "    </tr>\n",
       "    <tr>\n",
       "      <th>377</th>\n",
       "      <td>Tottenham</td>\n",
       "      <td>Birmingham</td>\n",
       "      <td>22/05/11</td>\n",
       "      <td>2</td>\n",
       "      <td>1</td>\n",
       "      <td>H</td>\n",
       "      <td>8</td>\n",
       "      <td>-20</td>\n",
       "      <td>59</td>\n",
       "      <td>39</td>\n",
       "      <td>W</td>\n",
       "      <td>L</td>\n",
       "      <td>L</td>\n",
       "      <td>L</td>\n",
       "      <td>D</td>\n",
       "      <td>D</td>\n",
       "    </tr>\n",
       "    <tr>\n",
       "      <th>378</th>\n",
       "      <td>West Ham</td>\n",
       "      <td>Sunderland</td>\n",
       "      <td>22/05/11</td>\n",
       "      <td>0</td>\n",
       "      <td>3</td>\n",
       "      <td>A</td>\n",
       "      <td>-24</td>\n",
       "      <td>-14</td>\n",
       "      <td>33</td>\n",
       "      <td>44</td>\n",
       "      <td>L</td>\n",
       "      <td>L</td>\n",
       "      <td>D</td>\n",
       "      <td>W</td>\n",
       "      <td>L</td>\n",
       "      <td>L</td>\n",
       "    </tr>\n",
       "    <tr>\n",
       "      <th>379</th>\n",
       "      <td>Wolves</td>\n",
       "      <td>Blackburn</td>\n",
       "      <td>22/05/11</td>\n",
       "      <td>2</td>\n",
       "      <td>3</td>\n",
       "      <td>A</td>\n",
       "      <td>-19</td>\n",
       "      <td>-14</td>\n",
       "      <td>40</td>\n",
       "      <td>40</td>\n",
       "      <td>W</td>\n",
       "      <td>D</td>\n",
       "      <td>W</td>\n",
       "      <td>D</td>\n",
       "      <td>D</td>\n",
       "      <td>W</td>\n",
       "    </tr>\n",
       "  </tbody>\n",
       "</table>\n",
       "</div>"
      ],
      "text/plain": [
       "      HomeTeam    AwayTeam      Date  FTHG  FTAG FTR  HTGD  ATGD  HTP  ATP  \\\n",
       "375  Newcastle   West Brom  22/05/11     3     3   D    -1   -15   45   46   \n",
       "376      Stoke       Wigan  22/05/11     0     1   A    -1   -22   46   39   \n",
       "377  Tottenham  Birmingham  22/05/11     2     1   H     8   -20   59   39   \n",
       "378   West Ham  Sunderland  22/05/11     0     3   A   -24   -14   33   44   \n",
       "379     Wolves   Blackburn  22/05/11     2     3   A   -19   -14   40   40   \n",
       "\n",
       "    HM1 AM1 HM2 AM2 HM3 AM3  \n",
       "375   D   W   W   L   L   W  \n",
       "376   L   W   W   D   D   D  \n",
       "377   W   L   L   L   D   D  \n",
       "378   L   L   D   W   L   L  \n",
       "379   W   D   W   D   D   W  "
      ]
     },
     "execution_count": 13,
     "metadata": {},
     "output_type": "execute_result"
    }
   ],
   "source": [
    "def get_form(playing_stat,num):\n",
    "    form = get_matchres(playing_stat)\n",
    "    form_final = form.copy()\n",
    "    for i in range(num,39):\n",
    "        form_final[i] = ''\n",
    "        j = 0\n",
    "        while j < num:\n",
    "            form_final[i] += form[i-j]\n",
    "            j += 1\n",
    "    return form_final\n",
    "\n",
    "def add_form(playing_stat,num):\n",
    "    form = get_form(playing_stat,num)\n",
    "    # M is for unknown, because there is not that much history\n",
    "    h = ['M' for i in range(num * 10)]\n",
    "    a = ['M' for i in range(num * 10)]\n",
    "    j = num\n",
    "    for i in range((num*10),380):\n",
    "        ht = playing_stat.iloc[i].HomeTeam\n",
    "        at = playing_stat.iloc[i].AwayTeam\n",
    "\n",
    "        past = form.loc[ht][j]\n",
    "        h.append(past[num-1])\n",
    "\n",
    "        past = form.loc[at][j]\n",
    "        a.append(past[num-1])\n",
    "\n",
    "        if ((i + 1)% 10) == 0:\n",
    "            j = j + 1\n",
    "\n",
    "    playing_stat['HM' + str(num)] = h\n",
    "    playing_stat['AM' + str(num)] = a\n",
    "\n",
    "    return playing_stat\n",
    "\n",
    "def add_form_df(playing_statistics):\n",
    "    playing_statistics = add_form(playing_statistics,1)\n",
    "    playing_statistics = add_form(playing_statistics,2)\n",
    "    playing_statistics = add_form(playing_statistics,3)\n",
    "    return playing_statistics\n",
    "\n",
    "for i in range(len(playing_statistics)):\n",
    "    playing_statistics[i] = add_form_df(playing_statistics[i])\n",
    "\n",
    "playing_statistics[0].tail()"
   ]
  },
  {
   "cell_type": "code",
   "execution_count": 14,
   "metadata": {},
   "outputs": [
    {
     "name": "stderr",
     "output_type": "stream",
     "text": [
      "<ipython-input-14-86d018185c15>:9: SettingWithCopyWarning: \n",
      "A value is trying to be set on a copy of a slice from a DataFrame.\n",
      "Try using .loc[row_indexer,col_indexer] = value instead\n",
      "\n",
      "See the caveats in the documentation: https://pandas.pydata.org/pandas-docs/stable/user_guide/indexing.html#returning-a-view-versus-a-copy\n",
      "  playing_stat['MW'] = MatchWeek\n"
     ]
    },
    {
     "data": {
      "text/html": [
       "<div>\n",
       "<style scoped>\n",
       "    .dataframe tbody tr th:only-of-type {\n",
       "        vertical-align: middle;\n",
       "    }\n",
       "\n",
       "    .dataframe tbody tr th {\n",
       "        vertical-align: top;\n",
       "    }\n",
       "\n",
       "    .dataframe thead th {\n",
       "        text-align: right;\n",
       "    }\n",
       "</style>\n",
       "<table border=\"1\" class=\"dataframe\">\n",
       "  <thead>\n",
       "    <tr style=\"text-align: right;\">\n",
       "      <th></th>\n",
       "      <th>HomeTeam</th>\n",
       "      <th>AwayTeam</th>\n",
       "      <th>Date</th>\n",
       "      <th>FTHG</th>\n",
       "      <th>FTAG</th>\n",
       "      <th>FTR</th>\n",
       "      <th>HTGD</th>\n",
       "      <th>ATGD</th>\n",
       "      <th>HTP</th>\n",
       "      <th>ATP</th>\n",
       "      <th>HM1</th>\n",
       "      <th>AM1</th>\n",
       "      <th>HM2</th>\n",
       "      <th>AM2</th>\n",
       "      <th>HM3</th>\n",
       "      <th>AM3</th>\n",
       "      <th>MW</th>\n",
       "    </tr>\n",
       "  </thead>\n",
       "  <tbody>\n",
       "    <tr>\n",
       "      <th>0</th>\n",
       "      <td>Blackburn</td>\n",
       "      <td>Wolves</td>\n",
       "      <td>13/08/11</td>\n",
       "      <td>1</td>\n",
       "      <td>2</td>\n",
       "      <td>A</td>\n",
       "      <td>0</td>\n",
       "      <td>0</td>\n",
       "      <td>0</td>\n",
       "      <td>0</td>\n",
       "      <td>M</td>\n",
       "      <td>M</td>\n",
       "      <td>M</td>\n",
       "      <td>M</td>\n",
       "      <td>M</td>\n",
       "      <td>M</td>\n",
       "      <td>1</td>\n",
       "    </tr>\n",
       "    <tr>\n",
       "      <th>1</th>\n",
       "      <td>Fulham</td>\n",
       "      <td>Aston Villa</td>\n",
       "      <td>13/08/11</td>\n",
       "      <td>0</td>\n",
       "      <td>0</td>\n",
       "      <td>D</td>\n",
       "      <td>0</td>\n",
       "      <td>0</td>\n",
       "      <td>0</td>\n",
       "      <td>0</td>\n",
       "      <td>M</td>\n",
       "      <td>M</td>\n",
       "      <td>M</td>\n",
       "      <td>M</td>\n",
       "      <td>M</td>\n",
       "      <td>M</td>\n",
       "      <td>1</td>\n",
       "    </tr>\n",
       "    <tr>\n",
       "      <th>2</th>\n",
       "      <td>Liverpool</td>\n",
       "      <td>Sunderland</td>\n",
       "      <td>13/08/11</td>\n",
       "      <td>1</td>\n",
       "      <td>1</td>\n",
       "      <td>D</td>\n",
       "      <td>0</td>\n",
       "      <td>0</td>\n",
       "      <td>0</td>\n",
       "      <td>0</td>\n",
       "      <td>M</td>\n",
       "      <td>M</td>\n",
       "      <td>M</td>\n",
       "      <td>M</td>\n",
       "      <td>M</td>\n",
       "      <td>M</td>\n",
       "      <td>1</td>\n",
       "    </tr>\n",
       "    <tr>\n",
       "      <th>3</th>\n",
       "      <td>Newcastle</td>\n",
       "      <td>Arsenal</td>\n",
       "      <td>13/08/11</td>\n",
       "      <td>0</td>\n",
       "      <td>0</td>\n",
       "      <td>D</td>\n",
       "      <td>0</td>\n",
       "      <td>0</td>\n",
       "      <td>0</td>\n",
       "      <td>0</td>\n",
       "      <td>M</td>\n",
       "      <td>M</td>\n",
       "      <td>M</td>\n",
       "      <td>M</td>\n",
       "      <td>M</td>\n",
       "      <td>M</td>\n",
       "      <td>1</td>\n",
       "    </tr>\n",
       "    <tr>\n",
       "      <th>4</th>\n",
       "      <td>QPR</td>\n",
       "      <td>Bolton</td>\n",
       "      <td>13/08/11</td>\n",
       "      <td>0</td>\n",
       "      <td>4</td>\n",
       "      <td>A</td>\n",
       "      <td>0</td>\n",
       "      <td>0</td>\n",
       "      <td>0</td>\n",
       "      <td>0</td>\n",
       "      <td>M</td>\n",
       "      <td>M</td>\n",
       "      <td>M</td>\n",
       "      <td>M</td>\n",
       "      <td>M</td>\n",
       "      <td>M</td>\n",
       "      <td>1</td>\n",
       "    </tr>\n",
       "    <tr>\n",
       "      <th>...</th>\n",
       "      <td>...</td>\n",
       "      <td>...</td>\n",
       "      <td>...</td>\n",
       "      <td>...</td>\n",
       "      <td>...</td>\n",
       "      <td>...</td>\n",
       "      <td>...</td>\n",
       "      <td>...</td>\n",
       "      <td>...</td>\n",
       "      <td>...</td>\n",
       "      <td>...</td>\n",
       "      <td>...</td>\n",
       "      <td>...</td>\n",
       "      <td>...</td>\n",
       "      <td>...</td>\n",
       "      <td>...</td>\n",
       "      <td>...</td>\n",
       "    </tr>\n",
       "    <tr>\n",
       "      <th>375</th>\n",
       "      <td>Sunderland</td>\n",
       "      <td>Man United</td>\n",
       "      <td>13/05/12</td>\n",
       "      <td>0</td>\n",
       "      <td>1</td>\n",
       "      <td>A</td>\n",
       "      <td>0</td>\n",
       "      <td>55</td>\n",
       "      <td>45</td>\n",
       "      <td>86</td>\n",
       "      <td>L</td>\n",
       "      <td>W</td>\n",
       "      <td>D</td>\n",
       "      <td>L</td>\n",
       "      <td>D</td>\n",
       "      <td>D</td>\n",
       "      <td>38</td>\n",
       "    </tr>\n",
       "    <tr>\n",
       "      <th>376</th>\n",
       "      <td>Swansea</td>\n",
       "      <td>Liverpool</td>\n",
       "      <td>13/05/12</td>\n",
       "      <td>1</td>\n",
       "      <td>0</td>\n",
       "      <td>H</td>\n",
       "      <td>-8</td>\n",
       "      <td>8</td>\n",
       "      <td>44</td>\n",
       "      <td>52</td>\n",
       "      <td>L</td>\n",
       "      <td>W</td>\n",
       "      <td>D</td>\n",
       "      <td>L</td>\n",
       "      <td>D</td>\n",
       "      <td>W</td>\n",
       "      <td>38</td>\n",
       "    </tr>\n",
       "    <tr>\n",
       "      <th>377</th>\n",
       "      <td>Tottenham</td>\n",
       "      <td>Fulham</td>\n",
       "      <td>13/05/12</td>\n",
       "      <td>2</td>\n",
       "      <td>0</td>\n",
       "      <td>H</td>\n",
       "      <td>23</td>\n",
       "      <td>-1</td>\n",
       "      <td>66</td>\n",
       "      <td>52</td>\n",
       "      <td>D</td>\n",
       "      <td>W</td>\n",
       "      <td>W</td>\n",
       "      <td>W</td>\n",
       "      <td>W</td>\n",
       "      <td>L</td>\n",
       "      <td>38</td>\n",
       "    </tr>\n",
       "    <tr>\n",
       "      <th>378</th>\n",
       "      <td>West Brom</td>\n",
       "      <td>Arsenal</td>\n",
       "      <td>13/05/12</td>\n",
       "      <td>2</td>\n",
       "      <td>3</td>\n",
       "      <td>A</td>\n",
       "      <td>-6</td>\n",
       "      <td>24</td>\n",
       "      <td>47</td>\n",
       "      <td>67</td>\n",
       "      <td>D</td>\n",
       "      <td>D</td>\n",
       "      <td>D</td>\n",
       "      <td>D</td>\n",
       "      <td>W</td>\n",
       "      <td>D</td>\n",
       "      <td>38</td>\n",
       "    </tr>\n",
       "    <tr>\n",
       "      <th>379</th>\n",
       "      <td>Wigan</td>\n",
       "      <td>Wolves</td>\n",
       "      <td>13/05/12</td>\n",
       "      <td>3</td>\n",
       "      <td>2</td>\n",
       "      <td>H</td>\n",
       "      <td>-21</td>\n",
       "      <td>-41</td>\n",
       "      <td>40</td>\n",
       "      <td>25</td>\n",
       "      <td>W</td>\n",
       "      <td>D</td>\n",
       "      <td>W</td>\n",
       "      <td>D</td>\n",
       "      <td>L</td>\n",
       "      <td>L</td>\n",
       "      <td>38</td>\n",
       "    </tr>\n",
       "  </tbody>\n",
       "</table>\n",
       "<p>380 rows × 17 columns</p>\n",
       "</div>"
      ],
      "text/plain": [
       "       HomeTeam     AwayTeam      Date  FTHG  FTAG FTR  HTGD  ATGD  HTP  ATP  \\\n",
       "0     Blackburn       Wolves  13/08/11     1     2   A     0     0    0    0   \n",
       "1        Fulham  Aston Villa  13/08/11     0     0   D     0     0    0    0   \n",
       "2     Liverpool   Sunderland  13/08/11     1     1   D     0     0    0    0   \n",
       "3     Newcastle      Arsenal  13/08/11     0     0   D     0     0    0    0   \n",
       "4           QPR       Bolton  13/08/11     0     4   A     0     0    0    0   \n",
       "..          ...          ...       ...   ...   ...  ..   ...   ...  ...  ...   \n",
       "375  Sunderland   Man United  13/05/12     0     1   A     0    55   45   86   \n",
       "376     Swansea    Liverpool  13/05/12     1     0   H    -8     8   44   52   \n",
       "377   Tottenham       Fulham  13/05/12     2     0   H    23    -1   66   52   \n",
       "378   West Brom      Arsenal  13/05/12     2     3   A    -6    24   47   67   \n",
       "379       Wigan       Wolves  13/05/12     3     2   H   -21   -41   40   25   \n",
       "\n",
       "    HM1 AM1 HM2 AM2 HM3 AM3  MW  \n",
       "0     M   M   M   M   M   M   1  \n",
       "1     M   M   M   M   M   M   1  \n",
       "2     M   M   M   M   M   M   1  \n",
       "3     M   M   M   M   M   M   1  \n",
       "4     M   M   M   M   M   M   1  \n",
       "..   ..  ..  ..  ..  ..  ..  ..  \n",
       "375   L   W   D   L   D   D  38  \n",
       "376   L   W   D   L   D   W  38  \n",
       "377   D   W   W   W   W   L  38  \n",
       "378   D   D   D   D   W   D  38  \n",
       "379   W   D   W   D   L   L  38  \n",
       "\n",
       "[380 rows x 17 columns]"
      ]
     },
     "execution_count": 14,
     "metadata": {},
     "output_type": "execute_result"
    }
   ],
   "source": [
    "#Join the competition week feature (the first few competition weeks) MW\n",
    "def get_mw(playing_stat):\n",
    "    j = 1\n",
    "    MatchWeek = []\n",
    "    for i in range(380):\n",
    "        MatchWeek.append(j)\n",
    "        if ((i + 1)% 10) == 0:\n",
    "            j = j + 1\n",
    "    playing_stat['MW'] = MatchWeek\n",
    "    return playing_stat\n",
    "\n",
    "for i in range(len(playing_statistics)):\n",
    "    playing_statistics[i] = get_mw(playing_statistics[i])\n",
    "    \n",
    "playing_statistics[1]"
   ]
  },
  {
   "cell_type": "code",
   "execution_count": 15,
   "metadata": {
    "scrolled": true
   },
   "outputs": [
    {
     "data": {
      "text/html": [
       "<div>\n",
       "<style scoped>\n",
       "    .dataframe tbody tr th:only-of-type {\n",
       "        vertical-align: middle;\n",
       "    }\n",
       "\n",
       "    .dataframe tbody tr th {\n",
       "        vertical-align: top;\n",
       "    }\n",
       "\n",
       "    .dataframe thead th {\n",
       "        text-align: right;\n",
       "    }\n",
       "</style>\n",
       "<table border=\"1\" class=\"dataframe\">\n",
       "  <thead>\n",
       "    <tr style=\"text-align: right;\">\n",
       "      <th></th>\n",
       "      <th>HomeTeam</th>\n",
       "      <th>AwayTeam</th>\n",
       "      <th>Date</th>\n",
       "      <th>FTHG</th>\n",
       "      <th>FTAG</th>\n",
       "      <th>FTR</th>\n",
       "      <th>HTGD</th>\n",
       "      <th>ATGD</th>\n",
       "      <th>HTP</th>\n",
       "      <th>ATP</th>\n",
       "      <th>HM1</th>\n",
       "      <th>AM1</th>\n",
       "      <th>HM2</th>\n",
       "      <th>AM2</th>\n",
       "      <th>HM3</th>\n",
       "      <th>AM3</th>\n",
       "      <th>MW</th>\n",
       "    </tr>\n",
       "  </thead>\n",
       "  <tbody>\n",
       "    <tr>\n",
       "      <th>3415</th>\n",
       "      <td>Leicester</td>\n",
       "      <td>Man United</td>\n",
       "      <td>26/07/2020</td>\n",
       "      <td>0</td>\n",
       "      <td>2</td>\n",
       "      <td>A</td>\n",
       "      <td>0.736842</td>\n",
       "      <td>0.736842</td>\n",
       "      <td>1.631579</td>\n",
       "      <td>1.657895</td>\n",
       "      <td>L</td>\n",
       "      <td>D</td>\n",
       "      <td>W</td>\n",
       "      <td>W</td>\n",
       "      <td>L</td>\n",
       "      <td>D</td>\n",
       "      <td>38.0</td>\n",
       "    </tr>\n",
       "    <tr>\n",
       "      <th>3416</th>\n",
       "      <td>Man City</td>\n",
       "      <td>Norwich</td>\n",
       "      <td>26/07/2020</td>\n",
       "      <td>5</td>\n",
       "      <td>0</td>\n",
       "      <td>H</td>\n",
       "      <td>1.631579</td>\n",
       "      <td>-1.157895</td>\n",
       "      <td>2.052632</td>\n",
       "      <td>0.552632</td>\n",
       "      <td>W</td>\n",
       "      <td>L</td>\n",
       "      <td>W</td>\n",
       "      <td>L</td>\n",
       "      <td>W</td>\n",
       "      <td>L</td>\n",
       "      <td>38.0</td>\n",
       "    </tr>\n",
       "    <tr>\n",
       "      <th>3417</th>\n",
       "      <td>Newcastle</td>\n",
       "      <td>Liverpool</td>\n",
       "      <td>26/07/2020</td>\n",
       "      <td>1</td>\n",
       "      <td>3</td>\n",
       "      <td>A</td>\n",
       "      <td>-0.473684</td>\n",
       "      <td>1.315789</td>\n",
       "      <td>1.157895</td>\n",
       "      <td>2.526316</td>\n",
       "      <td>D</td>\n",
       "      <td>W</td>\n",
       "      <td>L</td>\n",
       "      <td>L</td>\n",
       "      <td>L</td>\n",
       "      <td>D</td>\n",
       "      <td>38.0</td>\n",
       "    </tr>\n",
       "    <tr>\n",
       "      <th>3418</th>\n",
       "      <td>Southampton</td>\n",
       "      <td>Sheffield United</td>\n",
       "      <td>26/07/2020</td>\n",
       "      <td>3</td>\n",
       "      <td>1</td>\n",
       "      <td>H</td>\n",
       "      <td>-0.289474</td>\n",
       "      <td>0.052632</td>\n",
       "      <td>1.289474</td>\n",
       "      <td>1.421053</td>\n",
       "      <td>W</td>\n",
       "      <td>L</td>\n",
       "      <td>D</td>\n",
       "      <td>L</td>\n",
       "      <td>D</td>\n",
       "      <td>W</td>\n",
       "      <td>38.0</td>\n",
       "    </tr>\n",
       "    <tr>\n",
       "      <th>3419</th>\n",
       "      <td>West Ham</td>\n",
       "      <td>Aston Villa</td>\n",
       "      <td>26/07/2020</td>\n",
       "      <td>1</td>\n",
       "      <td>1</td>\n",
       "      <td>D</td>\n",
       "      <td>-0.342105</td>\n",
       "      <td>-0.684211</td>\n",
       "      <td>1.000000</td>\n",
       "      <td>0.894737</td>\n",
       "      <td>D</td>\n",
       "      <td>W</td>\n",
       "      <td>W</td>\n",
       "      <td>D</td>\n",
       "      <td>W</td>\n",
       "      <td>W</td>\n",
       "      <td>38.0</td>\n",
       "    </tr>\n",
       "  </tbody>\n",
       "</table>\n",
       "</div>"
      ],
      "text/plain": [
       "         HomeTeam          AwayTeam        Date  FTHG  FTAG FTR      HTGD  \\\n",
       "3415    Leicester        Man United  26/07/2020     0     2   A  0.736842   \n",
       "3416     Man City           Norwich  26/07/2020     5     0   H  1.631579   \n",
       "3417    Newcastle         Liverpool  26/07/2020     1     3   A -0.473684   \n",
       "3418  Southampton  Sheffield United  26/07/2020     3     1   H -0.289474   \n",
       "3419     West Ham       Aston Villa  26/07/2020     1     1   D -0.342105   \n",
       "\n",
       "          ATGD       HTP       ATP HM1 AM1 HM2 AM2 HM3 AM3    MW  \n",
       "3415  0.736842  1.631579  1.657895   L   D   W   W   L   D  38.0  \n",
       "3416 -1.157895  2.052632  0.552632   W   L   W   L   W   L  38.0  \n",
       "3417  1.315789  1.157895  2.526316   D   W   L   L   L   D  38.0  \n",
       "3418  0.052632  1.289474  1.421053   W   L   D   L   D   W  38.0  \n",
       "3419 -0.684211  1.000000  0.894737   D   W   W   D   W   W  38.0  "
      ]
     },
     "execution_count": 15,
     "metadata": {},
     "output_type": "execute_result"
    }
   ],
   "source": [
    "# merging all the list\n",
    "playing_stat = pd.concat(playing_statistics, ignore_index=True)\n",
    "\n",
    "# The values of HTGD, ATGD ,HTP, ATP were divided by the number of weeks to obtain the average score\n",
    "cols = ['HTGD','ATGD','HTP','ATP']\n",
    "playing_stat.MW = playing_stat.MW.astype(float)\n",
    "for col in cols:\n",
    "    playing_stat[col] = playing_stat[col] / playing_stat.MW\n",
    "    \n",
    "playing_stat.tail()"
   ]
  },
  {
   "cell_type": "code",
   "execution_count": 16,
   "metadata": {},
   "outputs": [
    {
     "data": {
      "text/html": [
       "<div>\n",
       "<style scoped>\n",
       "    .dataframe tbody tr th:only-of-type {\n",
       "        vertical-align: middle;\n",
       "    }\n",
       "\n",
       "    .dataframe tbody tr th {\n",
       "        vertical-align: top;\n",
       "    }\n",
       "\n",
       "    .dataframe thead th {\n",
       "        text-align: right;\n",
       "    }\n",
       "</style>\n",
       "<table border=\"1\" class=\"dataframe\">\n",
       "  <thead>\n",
       "    <tr style=\"text-align: right;\">\n",
       "      <th></th>\n",
       "      <th>HomeTeam</th>\n",
       "      <th>AwayTeam</th>\n",
       "      <th>Date</th>\n",
       "    </tr>\n",
       "  </thead>\n",
       "  <tbody>\n",
       "    <tr>\n",
       "      <th>0</th>\n",
       "      <td>Aston Villa</td>\n",
       "      <td>West Ham</td>\n",
       "      <td>14/08/10</td>\n",
       "    </tr>\n",
       "    <tr>\n",
       "      <th>1</th>\n",
       "      <td>Blackburn</td>\n",
       "      <td>Everton</td>\n",
       "      <td>14/08/10</td>\n",
       "    </tr>\n",
       "    <tr>\n",
       "      <th>2</th>\n",
       "      <td>Bolton</td>\n",
       "      <td>Fulham</td>\n",
       "      <td>14/08/10</td>\n",
       "    </tr>\n",
       "    <tr>\n",
       "      <th>3</th>\n",
       "      <td>Chelsea</td>\n",
       "      <td>West Brom</td>\n",
       "      <td>14/08/10</td>\n",
       "    </tr>\n",
       "    <tr>\n",
       "      <th>4</th>\n",
       "      <td>Sunderland</td>\n",
       "      <td>Birmingham</td>\n",
       "      <td>14/08/10</td>\n",
       "    </tr>\n",
       "    <tr>\n",
       "      <th>...</th>\n",
       "      <td>...</td>\n",
       "      <td>...</td>\n",
       "      <td>...</td>\n",
       "    </tr>\n",
       "    <tr>\n",
       "      <th>3415</th>\n",
       "      <td>Leicester</td>\n",
       "      <td>Man United</td>\n",
       "      <td>26/07/2020</td>\n",
       "    </tr>\n",
       "    <tr>\n",
       "      <th>3416</th>\n",
       "      <td>Man City</td>\n",
       "      <td>Norwich</td>\n",
       "      <td>26/07/2020</td>\n",
       "    </tr>\n",
       "    <tr>\n",
       "      <th>3417</th>\n",
       "      <td>Newcastle</td>\n",
       "      <td>Liverpool</td>\n",
       "      <td>26/07/2020</td>\n",
       "    </tr>\n",
       "    <tr>\n",
       "      <th>3418</th>\n",
       "      <td>Southampton</td>\n",
       "      <td>Sheffield United</td>\n",
       "      <td>26/07/2020</td>\n",
       "    </tr>\n",
       "    <tr>\n",
       "      <th>3419</th>\n",
       "      <td>West Ham</td>\n",
       "      <td>Aston Villa</td>\n",
       "      <td>26/07/2020</td>\n",
       "    </tr>\n",
       "  </tbody>\n",
       "</table>\n",
       "<p>3420 rows × 3 columns</p>\n",
       "</div>"
      ],
      "text/plain": [
       "         HomeTeam          AwayTeam        Date\n",
       "0     Aston Villa          West Ham    14/08/10\n",
       "1       Blackburn           Everton    14/08/10\n",
       "2          Bolton            Fulham    14/08/10\n",
       "3         Chelsea         West Brom    14/08/10\n",
       "4      Sunderland        Birmingham    14/08/10\n",
       "...           ...               ...         ...\n",
       "3415    Leicester        Man United  26/07/2020\n",
       "3416     Man City           Norwich  26/07/2020\n",
       "3417    Newcastle         Liverpool  26/07/2020\n",
       "3418  Southampton  Sheffield United  26/07/2020\n",
       "3419     West Ham       Aston Villa  26/07/2020\n",
       "\n",
       "[3420 rows x 3 columns]"
      ]
     },
     "execution_count": 16,
     "metadata": {},
     "output_type": "execute_result"
    }
   ],
   "source": [
    "playing_stat_teams = playing_stat[['HomeTeam','AwayTeam','Date']]\n",
    "playing_stat_teams"
   ]
  },
  {
   "cell_type": "code",
   "execution_count": 17,
   "metadata": {},
   "outputs": [],
   "source": [
    "#Remove intermediate features\n",
    "playing_stat = playing_stat[playing_stat.MW > 3]\n",
    "#playing_stat.drop(['HomeTeam', 'AwayTeam', 'FTHG', 'FTAG', 'MW'],1, inplace=True)"
   ]
  },
  {
   "cell_type": "markdown",
   "metadata": {},
   "source": [
    "### Earlier, we calculated the home and away winning percentage for each year, now let's see if there are more home wins or away wins in the valid data."
   ]
  },
  {
   "cell_type": "code",
   "execution_count": 18,
   "metadata": {},
   "outputs": [
    {
     "name": "stdout",
     "output_type": "stream",
     "text": [
      "Total number of matches: 3150\n",
      "Total number of features: 16\n",
      "Number of home wins: 1456\n",
      "Home Winning Percentage: 46.22%\n"
     ]
    }
   ],
   "source": [
    "# Total number of matches\n",
    "n_matches = playing_stat.shape[0]\n",
    "\n",
    "# Total number of features\n",
    "n_features = playing_stat.shape[1] - 1\n",
    "\n",
    "# Number of home wins\n",
    "n_homewins = len(playing_stat[playing_stat.FTR == 'H'])\n",
    "\n",
    "# Home Winning Percentage\n",
    "win_rate = (float(n_homewins) / (n_matches)) * 100\n",
    "\n",
    "# Print the results\n",
    "print(\"Total number of matches: {}\".format(n_matches))\n",
    "print(\"Total number of features: {}\".format(n_features))\n",
    "print(\"Number of home wins: {}\".format(n_homewins))\n",
    "print(\"Home Winning Percentage: {:.2f}%\".format(win_rate))\n",
    "#46.22% is about the same as our previous prediction of 45%, proving that our constructive features are correct"
   ]
  },
  {
   "cell_type": "markdown",
   "metadata": {},
   "source": [
    "### After constructing the features, it is found that the proportion of home wins is close to 50% so for this triple classification problem, the label proportion is uneven. We reduce it to a 2 classification problem, that is, will the home team win? which is also a way to solve the problem of uneven labeling ratio."
   ]
  },
  {
   "cell_type": "code",
   "execution_count": 19,
   "metadata": {},
   "outputs": [
    {
     "data": {
      "text/plain": [
       "3150"
      ]
     },
     "execution_count": 19,
     "metadata": {},
     "output_type": "execute_result"
    }
   ],
   "source": [
    "def only_hw(string):\n",
    "    if string == 'H':\n",
    "        return 'H'\n",
    "    else:\n",
    "        return 'NH'\n",
    "playing_stat['FTR'] = playing_stat.FTR.apply(only_hw)\n",
    "# Dividing data into feature values and label values\n",
    "X_all = playing_stat.drop(['FTR'],1)\n",
    "y_all = playing_stat['FTR']\n",
    "\n",
    "len(X_all)"
   ]
  },
  {
   "cell_type": "code",
   "execution_count": 20,
   "metadata": {},
   "outputs": [
    {
     "name": "stdout",
     "output_type": "stream",
     "text": [
      "30       H\n",
      "31      NH\n",
      "32       H\n",
      "33      NH\n",
      "34      NH\n",
      "        ..\n",
      "3415    NH\n",
      "3416     H\n",
      "3417    NH\n",
      "3418     H\n",
      "3419    NH\n",
      "Name: FTR, Length: 3150, dtype: object\n"
     ]
    }
   ],
   "source": [
    "print(y_all)"
   ]
  },
  {
   "cell_type": "code",
   "execution_count": 21,
   "metadata": {},
   "outputs": [],
   "source": [
    "def convert_1(data):\n",
    "    max=data.max()\n",
    "    min=data.min()\n",
    "    return (data-min)/(max-min)\n",
    "r_data=convert_1(X_all['HTGD'])\n",
    "\n",
    "# Data standardization\n",
    "cols = [['HTGD','ATGD','HTP','ATP']]\n",
    "for col in cols:\n",
    "    X_all[col] = scale(X_all[col])"
   ]
  },
  {
   "cell_type": "code",
   "execution_count": 22,
   "metadata": {},
   "outputs": [
    {
     "name": "stdout",
     "output_type": "stream",
     "text": [
      "HomeTeam            string\n",
      "AwayTeam            string\n",
      "Date        datetime64[ns]\n",
      "FTHG                 int64\n",
      "FTAG                 int64\n",
      "HTGD               float64\n",
      "ATGD               float64\n",
      "HTP                float64\n",
      "ATP                float64\n",
      "HM1                 object\n",
      "AM1                 object\n",
      "HM2                 object\n",
      "AM2                 object\n",
      "HM3                 object\n",
      "AM3                 object\n",
      "MW                 float64\n",
      "dtype: object\n"
     ]
    }
   ],
   "source": [
    "X_all.HomeTeam = X_all.HomeTeam.astype('string')\n",
    "X_all.AwayTeam = X_all.AwayTeam.astype('string')\n",
    "X_all.Date = X_all.Date.astype('datetime64')\n",
    "print(X_all.dtypes)"
   ]
  },
  {
   "cell_type": "code",
   "execution_count": 23,
   "metadata": {},
   "outputs": [
    {
     "data": {
      "text/html": [
       "<div>\n",
       "<style scoped>\n",
       "    .dataframe tbody tr th:only-of-type {\n",
       "        vertical-align: middle;\n",
       "    }\n",
       "\n",
       "    .dataframe tbody tr th {\n",
       "        vertical-align: top;\n",
       "    }\n",
       "\n",
       "    .dataframe thead th {\n",
       "        text-align: right;\n",
       "    }\n",
       "</style>\n",
       "<table border=\"1\" class=\"dataframe\">\n",
       "  <thead>\n",
       "    <tr style=\"text-align: right;\">\n",
       "      <th></th>\n",
       "      <th>HomeTeam</th>\n",
       "      <th>AwayTeam</th>\n",
       "      <th>Date</th>\n",
       "      <th>FTHG</th>\n",
       "      <th>FTAG</th>\n",
       "      <th>HTGD</th>\n",
       "      <th>ATGD</th>\n",
       "      <th>HTP</th>\n",
       "      <th>ATP</th>\n",
       "      <th>HM1</th>\n",
       "      <th>AM1</th>\n",
       "      <th>HM2</th>\n",
       "      <th>AM2</th>\n",
       "      <th>HM3</th>\n",
       "      <th>AM3</th>\n",
       "      <th>MW</th>\n",
       "    </tr>\n",
       "  </thead>\n",
       "  <tbody>\n",
       "    <tr>\n",
       "      <th>30</th>\n",
       "      <td>Arsenal</td>\n",
       "      <td>Bolton</td>\n",
       "      <td>2010-11-09</td>\n",
       "      <td>4</td>\n",
       "      <td>1</td>\n",
       "      <td>2.346720</td>\n",
       "      <td>0.645734</td>\n",
       "      <td>0.966714</td>\n",
       "      <td>-0.075015</td>\n",
       "      <td>W</td>\n",
       "      <td>D</td>\n",
       "      <td>W</td>\n",
       "      <td>W</td>\n",
       "      <td>D</td>\n",
       "      <td>D</td>\n",
       "      <td>4.0</td>\n",
       "    </tr>\n",
       "    <tr>\n",
       "      <th>31</th>\n",
       "      <td>Everton</td>\n",
       "      <td>Man United</td>\n",
       "      <td>2010-11-09</td>\n",
       "      <td>3</td>\n",
       "      <td>3</td>\n",
       "      <td>-0.648762</td>\n",
       "      <td>1.978979</td>\n",
       "      <td>-2.042997</td>\n",
       "      <td>0.934098</td>\n",
       "      <td>L</td>\n",
       "      <td>W</td>\n",
       "      <td>D</td>\n",
       "      <td>D</td>\n",
       "      <td>L</td>\n",
       "      <td>W</td>\n",
       "      <td>4.0</td>\n",
       "    </tr>\n",
       "    <tr>\n",
       "      <th>32</th>\n",
       "      <td>Fulham</td>\n",
       "      <td>Wolves</td>\n",
       "      <td>2010-11-09</td>\n",
       "      <td>2</td>\n",
       "      <td>1</td>\n",
       "      <td>0.016901</td>\n",
       "      <td>0.312422</td>\n",
       "      <td>-1.039760</td>\n",
       "      <td>-0.075015</td>\n",
       "      <td>D</td>\n",
       "      <td>D</td>\n",
       "      <td>D</td>\n",
       "      <td>D</td>\n",
       "      <td>D</td>\n",
       "      <td>W</td>\n",
       "      <td>4.0</td>\n",
       "    </tr>\n",
       "    <tr>\n",
       "      <th>33</th>\n",
       "      <td>Man City</td>\n",
       "      <td>Blackburn</td>\n",
       "      <td>2010-11-09</td>\n",
       "      <td>1</td>\n",
       "      <td>1</td>\n",
       "      <td>0.682563</td>\n",
       "      <td>-0.354200</td>\n",
       "      <td>-0.538141</td>\n",
       "      <td>-1.084128</td>\n",
       "      <td>L</td>\n",
       "      <td>L</td>\n",
       "      <td>W</td>\n",
       "      <td>L</td>\n",
       "      <td>D</td>\n",
       "      <td>W</td>\n",
       "      <td>4.0</td>\n",
       "    </tr>\n",
       "    <tr>\n",
       "      <th>34</th>\n",
       "      <td>Newcastle</td>\n",
       "      <td>Blackpool</td>\n",
       "      <td>2010-11-09</td>\n",
       "      <td>0</td>\n",
       "      <td>2</td>\n",
       "      <td>1.015395</td>\n",
       "      <td>-0.687512</td>\n",
       "      <td>-0.538141</td>\n",
       "      <td>-0.579572</td>\n",
       "      <td>D</td>\n",
       "      <td>D</td>\n",
       "      <td>W</td>\n",
       "      <td>L</td>\n",
       "      <td>L</td>\n",
       "      <td>W</td>\n",
       "      <td>4.0</td>\n",
       "    </tr>\n",
       "    <tr>\n",
       "      <th>...</th>\n",
       "      <td>...</td>\n",
       "      <td>...</td>\n",
       "      <td>...</td>\n",
       "      <td>...</td>\n",
       "      <td>...</td>\n",
       "      <td>...</td>\n",
       "      <td>...</td>\n",
       "      <td>...</td>\n",
       "      <td>...</td>\n",
       "      <td>...</td>\n",
       "      <td>...</td>\n",
       "      <td>...</td>\n",
       "      <td>...</td>\n",
       "      <td>...</td>\n",
       "      <td>...</td>\n",
       "      <td>...</td>\n",
       "    </tr>\n",
       "    <tr>\n",
       "      <th>3415</th>\n",
       "      <td>Leicester</td>\n",
       "      <td>Man United</td>\n",
       "      <td>2020-07-26</td>\n",
       "      <td>0</td>\n",
       "      <td>2</td>\n",
       "      <td>0.997877</td>\n",
       "      <td>0.961502</td>\n",
       "      <td>0.729106</td>\n",
       "      <td>0.748209</td>\n",
       "      <td>L</td>\n",
       "      <td>D</td>\n",
       "      <td>W</td>\n",
       "      <td>W</td>\n",
       "      <td>L</td>\n",
       "      <td>D</td>\n",
       "      <td>38.0</td>\n",
       "    </tr>\n",
       "    <tr>\n",
       "      <th>3416</th>\n",
       "      <td>Man City</td>\n",
       "      <td>Norwich</td>\n",
       "      <td>2020-07-26</td>\n",
       "      <td>5</td>\n",
       "      <td>0</td>\n",
       "      <td>2.189063</td>\n",
       "      <td>-1.564647</td>\n",
       "      <td>1.573937</td>\n",
       "      <td>-1.482463</td>\n",
       "      <td>W</td>\n",
       "      <td>L</td>\n",
       "      <td>W</td>\n",
       "      <td>L</td>\n",
       "      <td>W</td>\n",
       "      <td>L</td>\n",
       "      <td>38.0</td>\n",
       "    </tr>\n",
       "    <tr>\n",
       "      <th>3417</th>\n",
       "      <td>Newcastle</td>\n",
       "      <td>Liverpool</td>\n",
       "      <td>2020-07-26</td>\n",
       "      <td>1</td>\n",
       "      <td>3</td>\n",
       "      <td>-0.613727</td>\n",
       "      <td>1.733381</td>\n",
       "      <td>-0.221330</td>\n",
       "      <td>2.500880</td>\n",
       "      <td>D</td>\n",
       "      <td>W</td>\n",
       "      <td>L</td>\n",
       "      <td>L</td>\n",
       "      <td>L</td>\n",
       "      <td>D</td>\n",
       "      <td>38.0</td>\n",
       "    </tr>\n",
       "    <tr>\n",
       "      <th>3418</th>\n",
       "      <td>Southampton</td>\n",
       "      <td>Sheffield United</td>\n",
       "      <td>2020-07-26</td>\n",
       "      <td>3</td>\n",
       "      <td>1</td>\n",
       "      <td>-0.368483</td>\n",
       "      <td>0.049282</td>\n",
       "      <td>0.042680</td>\n",
       "      <td>0.270208</td>\n",
       "      <td>W</td>\n",
       "      <td>L</td>\n",
       "      <td>D</td>\n",
       "      <td>L</td>\n",
       "      <td>D</td>\n",
       "      <td>W</td>\n",
       "      <td>38.0</td>\n",
       "    </tr>\n",
       "    <tr>\n",
       "      <th>3419</th>\n",
       "      <td>West Ham</td>\n",
       "      <td>Aston Villa</td>\n",
       "      <td>2020-07-26</td>\n",
       "      <td>1</td>\n",
       "      <td>1</td>\n",
       "      <td>-0.438553</td>\n",
       "      <td>-0.933109</td>\n",
       "      <td>-0.538141</td>\n",
       "      <td>-0.792017</td>\n",
       "      <td>D</td>\n",
       "      <td>W</td>\n",
       "      <td>W</td>\n",
       "      <td>D</td>\n",
       "      <td>W</td>\n",
       "      <td>W</td>\n",
       "      <td>38.0</td>\n",
       "    </tr>\n",
       "  </tbody>\n",
       "</table>\n",
       "<p>3150 rows × 16 columns</p>\n",
       "</div>"
      ],
      "text/plain": [
       "         HomeTeam          AwayTeam       Date  FTHG  FTAG      HTGD  \\\n",
       "30        Arsenal            Bolton 2010-11-09     4     1  2.346720   \n",
       "31        Everton        Man United 2010-11-09     3     3 -0.648762   \n",
       "32         Fulham            Wolves 2010-11-09     2     1  0.016901   \n",
       "33       Man City         Blackburn 2010-11-09     1     1  0.682563   \n",
       "34      Newcastle         Blackpool 2010-11-09     0     2  1.015395   \n",
       "...           ...               ...        ...   ...   ...       ...   \n",
       "3415    Leicester        Man United 2020-07-26     0     2  0.997877   \n",
       "3416     Man City           Norwich 2020-07-26     5     0  2.189063   \n",
       "3417    Newcastle         Liverpool 2020-07-26     1     3 -0.613727   \n",
       "3418  Southampton  Sheffield United 2020-07-26     3     1 -0.368483   \n",
       "3419     West Ham       Aston Villa 2020-07-26     1     1 -0.438553   \n",
       "\n",
       "          ATGD       HTP       ATP HM1 AM1 HM2 AM2 HM3 AM3    MW  \n",
       "30    0.645734  0.966714 -0.075015   W   D   W   W   D   D   4.0  \n",
       "31    1.978979 -2.042997  0.934098   L   W   D   D   L   W   4.0  \n",
       "32    0.312422 -1.039760 -0.075015   D   D   D   D   D   W   4.0  \n",
       "33   -0.354200 -0.538141 -1.084128   L   L   W   L   D   W   4.0  \n",
       "34   -0.687512 -0.538141 -0.579572   D   D   W   L   L   W   4.0  \n",
       "...        ...       ...       ...  ..  ..  ..  ..  ..  ..   ...  \n",
       "3415  0.961502  0.729106  0.748209   L   D   W   W   L   D  38.0  \n",
       "3416 -1.564647  1.573937 -1.482463   W   L   W   L   W   L  38.0  \n",
       "3417  1.733381 -0.221330  2.500880   D   W   L   L   L   D  38.0  \n",
       "3418  0.049282  0.042680  0.270208   W   L   D   L   D   W  38.0  \n",
       "3419 -0.933109 -0.538141 -0.792017   D   W   W   D   W   W  38.0  \n",
       "\n",
       "[3150 rows x 16 columns]"
      ]
     },
     "execution_count": 23,
     "metadata": {},
     "output_type": "execute_result"
    }
   ],
   "source": [
    "X_all"
   ]
  },
  {
   "cell_type": "code",
   "execution_count": 24,
   "metadata": {},
   "outputs": [
    {
     "name": "stdout",
     "output_type": "stream",
     "text": [
      "Processed feature columns (28 total features):\n",
      "['HomeTeam', 'AwayTeam', 'Date', 'FTHG', 'FTAG', 'HTGD', 'ATGD', 'HTP', 'ATP', 'HM1_D', 'HM1_L', 'HM1_W', 'AM1_D', 'AM1_L', 'AM1_W', 'HM2_D', 'HM2_L', 'HM2_W', 'AM2_D', 'AM2_L', 'AM2_W', 'HM3_D', 'HM3_L', 'HM3_W', 'AM3_D', 'AM3_L', 'AM3_W', 'MW']\n"
     ]
    }
   ],
   "source": [
    "def preprocess_features(X):\n",
    "    '''Converting discrete type features to dummy encoded features  '''\n",
    "    output = pd.DataFrame(index = X.index)\n",
    "    for col, col_data in X.iteritems():\n",
    "        if col_data.dtype == object:\n",
    "            col_data = pd.get_dummies(col_data, prefix = col)\n",
    "        output = output.join(col_data)\n",
    "    return output\n",
    "\n",
    "X_all = preprocess_features(X_all)\n",
    "print(\"Processed feature columns ({} total features):\\n{}\".format(len(X_all.columns), list(X_all.columns)))"
   ]
  },
  {
   "cell_type": "code",
   "execution_count": 25,
   "metadata": {},
   "outputs": [
    {
     "name": "stdout",
     "output_type": "stream",
     "text": [
      "\n",
      "Feature values:\n"
     ]
    },
    {
     "data": {
      "text/html": [
       "<div>\n",
       "<style scoped>\n",
       "    .dataframe tbody tr th:only-of-type {\n",
       "        vertical-align: middle;\n",
       "    }\n",
       "\n",
       "    .dataframe tbody tr th {\n",
       "        vertical-align: top;\n",
       "    }\n",
       "\n",
       "    .dataframe thead th {\n",
       "        text-align: right;\n",
       "    }\n",
       "</style>\n",
       "<table border=\"1\" class=\"dataframe\">\n",
       "  <thead>\n",
       "    <tr style=\"text-align: right;\">\n",
       "      <th></th>\n",
       "      <th>HomeTeam</th>\n",
       "      <th>AwayTeam</th>\n",
       "      <th>Date</th>\n",
       "      <th>FTHG</th>\n",
       "      <th>FTAG</th>\n",
       "      <th>HTGD</th>\n",
       "      <th>ATGD</th>\n",
       "      <th>HTP</th>\n",
       "      <th>ATP</th>\n",
       "      <th>HM1_D</th>\n",
       "      <th>...</th>\n",
       "      <th>AM2_D</th>\n",
       "      <th>AM2_L</th>\n",
       "      <th>AM2_W</th>\n",
       "      <th>HM3_D</th>\n",
       "      <th>HM3_L</th>\n",
       "      <th>HM3_W</th>\n",
       "      <th>AM3_D</th>\n",
       "      <th>AM3_L</th>\n",
       "      <th>AM3_W</th>\n",
       "      <th>MW</th>\n",
       "    </tr>\n",
       "  </thead>\n",
       "  <tbody>\n",
       "    <tr>\n",
       "      <th>30</th>\n",
       "      <td>Arsenal</td>\n",
       "      <td>Bolton</td>\n",
       "      <td>2010-11-09</td>\n",
       "      <td>4</td>\n",
       "      <td>1</td>\n",
       "      <td>2.346720</td>\n",
       "      <td>0.645734</td>\n",
       "      <td>0.966714</td>\n",
       "      <td>-0.075015</td>\n",
       "      <td>0</td>\n",
       "      <td>...</td>\n",
       "      <td>0</td>\n",
       "      <td>0</td>\n",
       "      <td>1</td>\n",
       "      <td>1</td>\n",
       "      <td>0</td>\n",
       "      <td>0</td>\n",
       "      <td>1</td>\n",
       "      <td>0</td>\n",
       "      <td>0</td>\n",
       "      <td>4.0</td>\n",
       "    </tr>\n",
       "    <tr>\n",
       "      <th>31</th>\n",
       "      <td>Everton</td>\n",
       "      <td>Man United</td>\n",
       "      <td>2010-11-09</td>\n",
       "      <td>3</td>\n",
       "      <td>3</td>\n",
       "      <td>-0.648762</td>\n",
       "      <td>1.978979</td>\n",
       "      <td>-2.042997</td>\n",
       "      <td>0.934098</td>\n",
       "      <td>0</td>\n",
       "      <td>...</td>\n",
       "      <td>1</td>\n",
       "      <td>0</td>\n",
       "      <td>0</td>\n",
       "      <td>0</td>\n",
       "      <td>1</td>\n",
       "      <td>0</td>\n",
       "      <td>0</td>\n",
       "      <td>0</td>\n",
       "      <td>1</td>\n",
       "      <td>4.0</td>\n",
       "    </tr>\n",
       "    <tr>\n",
       "      <th>32</th>\n",
       "      <td>Fulham</td>\n",
       "      <td>Wolves</td>\n",
       "      <td>2010-11-09</td>\n",
       "      <td>2</td>\n",
       "      <td>1</td>\n",
       "      <td>0.016901</td>\n",
       "      <td>0.312422</td>\n",
       "      <td>-1.039760</td>\n",
       "      <td>-0.075015</td>\n",
       "      <td>1</td>\n",
       "      <td>...</td>\n",
       "      <td>1</td>\n",
       "      <td>0</td>\n",
       "      <td>0</td>\n",
       "      <td>1</td>\n",
       "      <td>0</td>\n",
       "      <td>0</td>\n",
       "      <td>0</td>\n",
       "      <td>0</td>\n",
       "      <td>1</td>\n",
       "      <td>4.0</td>\n",
       "    </tr>\n",
       "    <tr>\n",
       "      <th>33</th>\n",
       "      <td>Man City</td>\n",
       "      <td>Blackburn</td>\n",
       "      <td>2010-11-09</td>\n",
       "      <td>1</td>\n",
       "      <td>1</td>\n",
       "      <td>0.682563</td>\n",
       "      <td>-0.354200</td>\n",
       "      <td>-0.538141</td>\n",
       "      <td>-1.084128</td>\n",
       "      <td>0</td>\n",
       "      <td>...</td>\n",
       "      <td>0</td>\n",
       "      <td>1</td>\n",
       "      <td>0</td>\n",
       "      <td>1</td>\n",
       "      <td>0</td>\n",
       "      <td>0</td>\n",
       "      <td>0</td>\n",
       "      <td>0</td>\n",
       "      <td>1</td>\n",
       "      <td>4.0</td>\n",
       "    </tr>\n",
       "    <tr>\n",
       "      <th>34</th>\n",
       "      <td>Newcastle</td>\n",
       "      <td>Blackpool</td>\n",
       "      <td>2010-11-09</td>\n",
       "      <td>0</td>\n",
       "      <td>2</td>\n",
       "      <td>1.015395</td>\n",
       "      <td>-0.687512</td>\n",
       "      <td>-0.538141</td>\n",
       "      <td>-0.579572</td>\n",
       "      <td>1</td>\n",
       "      <td>...</td>\n",
       "      <td>0</td>\n",
       "      <td>1</td>\n",
       "      <td>0</td>\n",
       "      <td>0</td>\n",
       "      <td>1</td>\n",
       "      <td>0</td>\n",
       "      <td>0</td>\n",
       "      <td>0</td>\n",
       "      <td>1</td>\n",
       "      <td>4.0</td>\n",
       "    </tr>\n",
       "    <tr>\n",
       "      <th>...</th>\n",
       "      <td>...</td>\n",
       "      <td>...</td>\n",
       "      <td>...</td>\n",
       "      <td>...</td>\n",
       "      <td>...</td>\n",
       "      <td>...</td>\n",
       "      <td>...</td>\n",
       "      <td>...</td>\n",
       "      <td>...</td>\n",
       "      <td>...</td>\n",
       "      <td>...</td>\n",
       "      <td>...</td>\n",
       "      <td>...</td>\n",
       "      <td>...</td>\n",
       "      <td>...</td>\n",
       "      <td>...</td>\n",
       "      <td>...</td>\n",
       "      <td>...</td>\n",
       "      <td>...</td>\n",
       "      <td>...</td>\n",
       "      <td>...</td>\n",
       "    </tr>\n",
       "    <tr>\n",
       "      <th>3415</th>\n",
       "      <td>Leicester</td>\n",
       "      <td>Man United</td>\n",
       "      <td>2020-07-26</td>\n",
       "      <td>0</td>\n",
       "      <td>2</td>\n",
       "      <td>0.997877</td>\n",
       "      <td>0.961502</td>\n",
       "      <td>0.729106</td>\n",
       "      <td>0.748209</td>\n",
       "      <td>0</td>\n",
       "      <td>...</td>\n",
       "      <td>0</td>\n",
       "      <td>0</td>\n",
       "      <td>1</td>\n",
       "      <td>0</td>\n",
       "      <td>1</td>\n",
       "      <td>0</td>\n",
       "      <td>1</td>\n",
       "      <td>0</td>\n",
       "      <td>0</td>\n",
       "      <td>38.0</td>\n",
       "    </tr>\n",
       "    <tr>\n",
       "      <th>3416</th>\n",
       "      <td>Man City</td>\n",
       "      <td>Norwich</td>\n",
       "      <td>2020-07-26</td>\n",
       "      <td>5</td>\n",
       "      <td>0</td>\n",
       "      <td>2.189063</td>\n",
       "      <td>-1.564647</td>\n",
       "      <td>1.573937</td>\n",
       "      <td>-1.482463</td>\n",
       "      <td>0</td>\n",
       "      <td>...</td>\n",
       "      <td>0</td>\n",
       "      <td>1</td>\n",
       "      <td>0</td>\n",
       "      <td>0</td>\n",
       "      <td>0</td>\n",
       "      <td>1</td>\n",
       "      <td>0</td>\n",
       "      <td>1</td>\n",
       "      <td>0</td>\n",
       "      <td>38.0</td>\n",
       "    </tr>\n",
       "    <tr>\n",
       "      <th>3417</th>\n",
       "      <td>Newcastle</td>\n",
       "      <td>Liverpool</td>\n",
       "      <td>2020-07-26</td>\n",
       "      <td>1</td>\n",
       "      <td>3</td>\n",
       "      <td>-0.613727</td>\n",
       "      <td>1.733381</td>\n",
       "      <td>-0.221330</td>\n",
       "      <td>2.500880</td>\n",
       "      <td>1</td>\n",
       "      <td>...</td>\n",
       "      <td>0</td>\n",
       "      <td>1</td>\n",
       "      <td>0</td>\n",
       "      <td>0</td>\n",
       "      <td>1</td>\n",
       "      <td>0</td>\n",
       "      <td>1</td>\n",
       "      <td>0</td>\n",
       "      <td>0</td>\n",
       "      <td>38.0</td>\n",
       "    </tr>\n",
       "    <tr>\n",
       "      <th>3418</th>\n",
       "      <td>Southampton</td>\n",
       "      <td>Sheffield United</td>\n",
       "      <td>2020-07-26</td>\n",
       "      <td>3</td>\n",
       "      <td>1</td>\n",
       "      <td>-0.368483</td>\n",
       "      <td>0.049282</td>\n",
       "      <td>0.042680</td>\n",
       "      <td>0.270208</td>\n",
       "      <td>0</td>\n",
       "      <td>...</td>\n",
       "      <td>0</td>\n",
       "      <td>1</td>\n",
       "      <td>0</td>\n",
       "      <td>1</td>\n",
       "      <td>0</td>\n",
       "      <td>0</td>\n",
       "      <td>0</td>\n",
       "      <td>0</td>\n",
       "      <td>1</td>\n",
       "      <td>38.0</td>\n",
       "    </tr>\n",
       "    <tr>\n",
       "      <th>3419</th>\n",
       "      <td>West Ham</td>\n",
       "      <td>Aston Villa</td>\n",
       "      <td>2020-07-26</td>\n",
       "      <td>1</td>\n",
       "      <td>1</td>\n",
       "      <td>-0.438553</td>\n",
       "      <td>-0.933109</td>\n",
       "      <td>-0.538141</td>\n",
       "      <td>-0.792017</td>\n",
       "      <td>1</td>\n",
       "      <td>...</td>\n",
       "      <td>1</td>\n",
       "      <td>0</td>\n",
       "      <td>0</td>\n",
       "      <td>0</td>\n",
       "      <td>0</td>\n",
       "      <td>1</td>\n",
       "      <td>0</td>\n",
       "      <td>0</td>\n",
       "      <td>1</td>\n",
       "      <td>38.0</td>\n",
       "    </tr>\n",
       "  </tbody>\n",
       "</table>\n",
       "<p>3150 rows × 28 columns</p>\n",
       "</div>"
      ],
      "text/plain": [
       "         HomeTeam          AwayTeam       Date  FTHG  FTAG      HTGD  \\\n",
       "30        Arsenal            Bolton 2010-11-09     4     1  2.346720   \n",
       "31        Everton        Man United 2010-11-09     3     3 -0.648762   \n",
       "32         Fulham            Wolves 2010-11-09     2     1  0.016901   \n",
       "33       Man City         Blackburn 2010-11-09     1     1  0.682563   \n",
       "34      Newcastle         Blackpool 2010-11-09     0     2  1.015395   \n",
       "...           ...               ...        ...   ...   ...       ...   \n",
       "3415    Leicester        Man United 2020-07-26     0     2  0.997877   \n",
       "3416     Man City           Norwich 2020-07-26     5     0  2.189063   \n",
       "3417    Newcastle         Liverpool 2020-07-26     1     3 -0.613727   \n",
       "3418  Southampton  Sheffield United 2020-07-26     3     1 -0.368483   \n",
       "3419     West Ham       Aston Villa 2020-07-26     1     1 -0.438553   \n",
       "\n",
       "          ATGD       HTP       ATP  HM1_D  ...  AM2_D  AM2_L  AM2_W  HM3_D  \\\n",
       "30    0.645734  0.966714 -0.075015      0  ...      0      0      1      1   \n",
       "31    1.978979 -2.042997  0.934098      0  ...      1      0      0      0   \n",
       "32    0.312422 -1.039760 -0.075015      1  ...      1      0      0      1   \n",
       "33   -0.354200 -0.538141 -1.084128      0  ...      0      1      0      1   \n",
       "34   -0.687512 -0.538141 -0.579572      1  ...      0      1      0      0   \n",
       "...        ...       ...       ...    ...  ...    ...    ...    ...    ...   \n",
       "3415  0.961502  0.729106  0.748209      0  ...      0      0      1      0   \n",
       "3416 -1.564647  1.573937 -1.482463      0  ...      0      1      0      0   \n",
       "3417  1.733381 -0.221330  2.500880      1  ...      0      1      0      0   \n",
       "3418  0.049282  0.042680  0.270208      0  ...      0      1      0      1   \n",
       "3419 -0.933109 -0.538141 -0.792017      1  ...      1      0      0      0   \n",
       "\n",
       "      HM3_L  HM3_W  AM3_D  AM3_L  AM3_W    MW  \n",
       "30        0      0      1      0      0   4.0  \n",
       "31        1      0      0      0      1   4.0  \n",
       "32        0      0      0      0      1   4.0  \n",
       "33        0      0      0      0      1   4.0  \n",
       "34        1      0      0      0      1   4.0  \n",
       "...     ...    ...    ...    ...    ...   ...  \n",
       "3415      1      0      1      0      0  38.0  \n",
       "3416      0      1      0      1      0  38.0  \n",
       "3417      1      0      1      0      0  38.0  \n",
       "3418      0      0      0      0      1  38.0  \n",
       "3419      0      1      0      0      1  38.0  \n",
       "\n",
       "[3150 rows x 28 columns]"
      ]
     },
     "metadata": {},
     "output_type": "display_data"
    }
   ],
   "source": [
    "print(\"\\nFeature values:\")\n",
    "display(X_all)"
   ]
  },
  {
   "cell_type": "code",
   "execution_count": 26,
   "metadata": {},
   "outputs": [
    {
     "data": {
      "text/html": [
       "<div>\n",
       "<style scoped>\n",
       "    .dataframe tbody tr th:only-of-type {\n",
       "        vertical-align: middle;\n",
       "    }\n",
       "\n",
       "    .dataframe tbody tr th {\n",
       "        vertical-align: top;\n",
       "    }\n",
       "\n",
       "    .dataframe thead th {\n",
       "        text-align: right;\n",
       "    }\n",
       "</style>\n",
       "<table border=\"1\" class=\"dataframe\">\n",
       "  <thead>\n",
       "    <tr style=\"text-align: right;\">\n",
       "      <th></th>\n",
       "      <th>HomeTeam</th>\n",
       "      <th>AwayTeam</th>\n",
       "      <th>Date</th>\n",
       "    </tr>\n",
       "  </thead>\n",
       "  <tbody>\n",
       "    <tr>\n",
       "      <th>30</th>\n",
       "      <td>Arsenal</td>\n",
       "      <td>Bolton</td>\n",
       "      <td>2010-11-09</td>\n",
       "    </tr>\n",
       "    <tr>\n",
       "      <th>31</th>\n",
       "      <td>Everton</td>\n",
       "      <td>Man United</td>\n",
       "      <td>2010-11-09</td>\n",
       "    </tr>\n",
       "    <tr>\n",
       "      <th>32</th>\n",
       "      <td>Fulham</td>\n",
       "      <td>Wolves</td>\n",
       "      <td>2010-11-09</td>\n",
       "    </tr>\n",
       "    <tr>\n",
       "      <th>33</th>\n",
       "      <td>Man City</td>\n",
       "      <td>Blackburn</td>\n",
       "      <td>2010-11-09</td>\n",
       "    </tr>\n",
       "    <tr>\n",
       "      <th>34</th>\n",
       "      <td>Newcastle</td>\n",
       "      <td>Blackpool</td>\n",
       "      <td>2010-11-09</td>\n",
       "    </tr>\n",
       "    <tr>\n",
       "      <th>...</th>\n",
       "      <td>...</td>\n",
       "      <td>...</td>\n",
       "      <td>...</td>\n",
       "    </tr>\n",
       "    <tr>\n",
       "      <th>3415</th>\n",
       "      <td>Leicester</td>\n",
       "      <td>Man United</td>\n",
       "      <td>2020-07-26</td>\n",
       "    </tr>\n",
       "    <tr>\n",
       "      <th>3416</th>\n",
       "      <td>Man City</td>\n",
       "      <td>Norwich</td>\n",
       "      <td>2020-07-26</td>\n",
       "    </tr>\n",
       "    <tr>\n",
       "      <th>3417</th>\n",
       "      <td>Newcastle</td>\n",
       "      <td>Liverpool</td>\n",
       "      <td>2020-07-26</td>\n",
       "    </tr>\n",
       "    <tr>\n",
       "      <th>3418</th>\n",
       "      <td>Southampton</td>\n",
       "      <td>Sheffield United</td>\n",
       "      <td>2020-07-26</td>\n",
       "    </tr>\n",
       "    <tr>\n",
       "      <th>3419</th>\n",
       "      <td>West Ham</td>\n",
       "      <td>Aston Villa</td>\n",
       "      <td>2020-07-26</td>\n",
       "    </tr>\n",
       "  </tbody>\n",
       "</table>\n",
       "<p>3150 rows × 3 columns</p>\n",
       "</div>"
      ],
      "text/plain": [
       "         HomeTeam          AwayTeam       Date\n",
       "30        Arsenal            Bolton 2010-11-09\n",
       "31        Everton        Man United 2010-11-09\n",
       "32         Fulham            Wolves 2010-11-09\n",
       "33       Man City         Blackburn 2010-11-09\n",
       "34      Newcastle         Blackpool 2010-11-09\n",
       "...           ...               ...        ...\n",
       "3415    Leicester        Man United 2020-07-26\n",
       "3416     Man City           Norwich 2020-07-26\n",
       "3417    Newcastle         Liverpool 2020-07-26\n",
       "3418  Southampton  Sheffield United 2020-07-26\n",
       "3419     West Ham       Aston Villa 2020-07-26\n",
       "\n",
       "[3150 rows x 3 columns]"
      ]
     },
     "metadata": {},
     "output_type": "display_data"
    }
   ],
   "source": [
    "X_all_complete = X_all[['HomeTeam','AwayTeam','Date']]\n",
    "display(X_all_complete)"
   ]
  },
  {
   "cell_type": "code",
   "execution_count": 27,
   "metadata": {},
   "outputs": [
    {
     "data": {
      "text/html": [
       "<div>\n",
       "<style scoped>\n",
       "    .dataframe tbody tr th:only-of-type {\n",
       "        vertical-align: middle;\n",
       "    }\n",
       "\n",
       "    .dataframe tbody tr th {\n",
       "        vertical-align: top;\n",
       "    }\n",
       "\n",
       "    .dataframe thead th {\n",
       "        text-align: right;\n",
       "    }\n",
       "</style>\n",
       "<table border=\"1\" class=\"dataframe\">\n",
       "  <thead>\n",
       "    <tr style=\"text-align: right;\">\n",
       "      <th></th>\n",
       "      <th>HTGD</th>\n",
       "      <th>ATGD</th>\n",
       "      <th>HTP</th>\n",
       "      <th>ATP</th>\n",
       "      <th>HM1_D</th>\n",
       "      <th>HM1_L</th>\n",
       "      <th>HM1_W</th>\n",
       "      <th>AM1_D</th>\n",
       "      <th>AM1_L</th>\n",
       "      <th>AM1_W</th>\n",
       "      <th>...</th>\n",
       "      <th>HM2_W</th>\n",
       "      <th>AM2_D</th>\n",
       "      <th>AM2_L</th>\n",
       "      <th>AM2_W</th>\n",
       "      <th>HM3_D</th>\n",
       "      <th>HM3_L</th>\n",
       "      <th>HM3_W</th>\n",
       "      <th>AM3_D</th>\n",
       "      <th>AM3_L</th>\n",
       "      <th>AM3_W</th>\n",
       "    </tr>\n",
       "  </thead>\n",
       "  <tbody>\n",
       "    <tr>\n",
       "      <th>30</th>\n",
       "      <td>2.346720</td>\n",
       "      <td>0.645734</td>\n",
       "      <td>0.966714</td>\n",
       "      <td>-0.075015</td>\n",
       "      <td>0</td>\n",
       "      <td>0</td>\n",
       "      <td>1</td>\n",
       "      <td>1</td>\n",
       "      <td>0</td>\n",
       "      <td>0</td>\n",
       "      <td>...</td>\n",
       "      <td>1</td>\n",
       "      <td>0</td>\n",
       "      <td>0</td>\n",
       "      <td>1</td>\n",
       "      <td>1</td>\n",
       "      <td>0</td>\n",
       "      <td>0</td>\n",
       "      <td>1</td>\n",
       "      <td>0</td>\n",
       "      <td>0</td>\n",
       "    </tr>\n",
       "    <tr>\n",
       "      <th>31</th>\n",
       "      <td>-0.648762</td>\n",
       "      <td>1.978979</td>\n",
       "      <td>-2.042997</td>\n",
       "      <td>0.934098</td>\n",
       "      <td>0</td>\n",
       "      <td>1</td>\n",
       "      <td>0</td>\n",
       "      <td>0</td>\n",
       "      <td>0</td>\n",
       "      <td>1</td>\n",
       "      <td>...</td>\n",
       "      <td>0</td>\n",
       "      <td>1</td>\n",
       "      <td>0</td>\n",
       "      <td>0</td>\n",
       "      <td>0</td>\n",
       "      <td>1</td>\n",
       "      <td>0</td>\n",
       "      <td>0</td>\n",
       "      <td>0</td>\n",
       "      <td>1</td>\n",
       "    </tr>\n",
       "    <tr>\n",
       "      <th>32</th>\n",
       "      <td>0.016901</td>\n",
       "      <td>0.312422</td>\n",
       "      <td>-1.039760</td>\n",
       "      <td>-0.075015</td>\n",
       "      <td>1</td>\n",
       "      <td>0</td>\n",
       "      <td>0</td>\n",
       "      <td>1</td>\n",
       "      <td>0</td>\n",
       "      <td>0</td>\n",
       "      <td>...</td>\n",
       "      <td>0</td>\n",
       "      <td>1</td>\n",
       "      <td>0</td>\n",
       "      <td>0</td>\n",
       "      <td>1</td>\n",
       "      <td>0</td>\n",
       "      <td>0</td>\n",
       "      <td>0</td>\n",
       "      <td>0</td>\n",
       "      <td>1</td>\n",
       "    </tr>\n",
       "    <tr>\n",
       "      <th>33</th>\n",
       "      <td>0.682563</td>\n",
       "      <td>-0.354200</td>\n",
       "      <td>-0.538141</td>\n",
       "      <td>-1.084128</td>\n",
       "      <td>0</td>\n",
       "      <td>1</td>\n",
       "      <td>0</td>\n",
       "      <td>0</td>\n",
       "      <td>1</td>\n",
       "      <td>0</td>\n",
       "      <td>...</td>\n",
       "      <td>1</td>\n",
       "      <td>0</td>\n",
       "      <td>1</td>\n",
       "      <td>0</td>\n",
       "      <td>1</td>\n",
       "      <td>0</td>\n",
       "      <td>0</td>\n",
       "      <td>0</td>\n",
       "      <td>0</td>\n",
       "      <td>1</td>\n",
       "    </tr>\n",
       "    <tr>\n",
       "      <th>34</th>\n",
       "      <td>1.015395</td>\n",
       "      <td>-0.687512</td>\n",
       "      <td>-0.538141</td>\n",
       "      <td>-0.579572</td>\n",
       "      <td>1</td>\n",
       "      <td>0</td>\n",
       "      <td>0</td>\n",
       "      <td>1</td>\n",
       "      <td>0</td>\n",
       "      <td>0</td>\n",
       "      <td>...</td>\n",
       "      <td>1</td>\n",
       "      <td>0</td>\n",
       "      <td>1</td>\n",
       "      <td>0</td>\n",
       "      <td>0</td>\n",
       "      <td>1</td>\n",
       "      <td>0</td>\n",
       "      <td>0</td>\n",
       "      <td>0</td>\n",
       "      <td>1</td>\n",
       "    </tr>\n",
       "    <tr>\n",
       "      <th>...</th>\n",
       "      <td>...</td>\n",
       "      <td>...</td>\n",
       "      <td>...</td>\n",
       "      <td>...</td>\n",
       "      <td>...</td>\n",
       "      <td>...</td>\n",
       "      <td>...</td>\n",
       "      <td>...</td>\n",
       "      <td>...</td>\n",
       "      <td>...</td>\n",
       "      <td>...</td>\n",
       "      <td>...</td>\n",
       "      <td>...</td>\n",
       "      <td>...</td>\n",
       "      <td>...</td>\n",
       "      <td>...</td>\n",
       "      <td>...</td>\n",
       "      <td>...</td>\n",
       "      <td>...</td>\n",
       "      <td>...</td>\n",
       "      <td>...</td>\n",
       "    </tr>\n",
       "    <tr>\n",
       "      <th>3415</th>\n",
       "      <td>0.997877</td>\n",
       "      <td>0.961502</td>\n",
       "      <td>0.729106</td>\n",
       "      <td>0.748209</td>\n",
       "      <td>0</td>\n",
       "      <td>1</td>\n",
       "      <td>0</td>\n",
       "      <td>1</td>\n",
       "      <td>0</td>\n",
       "      <td>0</td>\n",
       "      <td>...</td>\n",
       "      <td>1</td>\n",
       "      <td>0</td>\n",
       "      <td>0</td>\n",
       "      <td>1</td>\n",
       "      <td>0</td>\n",
       "      <td>1</td>\n",
       "      <td>0</td>\n",
       "      <td>1</td>\n",
       "      <td>0</td>\n",
       "      <td>0</td>\n",
       "    </tr>\n",
       "    <tr>\n",
       "      <th>3416</th>\n",
       "      <td>2.189063</td>\n",
       "      <td>-1.564647</td>\n",
       "      <td>1.573937</td>\n",
       "      <td>-1.482463</td>\n",
       "      <td>0</td>\n",
       "      <td>0</td>\n",
       "      <td>1</td>\n",
       "      <td>0</td>\n",
       "      <td>1</td>\n",
       "      <td>0</td>\n",
       "      <td>...</td>\n",
       "      <td>1</td>\n",
       "      <td>0</td>\n",
       "      <td>1</td>\n",
       "      <td>0</td>\n",
       "      <td>0</td>\n",
       "      <td>0</td>\n",
       "      <td>1</td>\n",
       "      <td>0</td>\n",
       "      <td>1</td>\n",
       "      <td>0</td>\n",
       "    </tr>\n",
       "    <tr>\n",
       "      <th>3417</th>\n",
       "      <td>-0.613727</td>\n",
       "      <td>1.733381</td>\n",
       "      <td>-0.221330</td>\n",
       "      <td>2.500880</td>\n",
       "      <td>1</td>\n",
       "      <td>0</td>\n",
       "      <td>0</td>\n",
       "      <td>0</td>\n",
       "      <td>0</td>\n",
       "      <td>1</td>\n",
       "      <td>...</td>\n",
       "      <td>0</td>\n",
       "      <td>0</td>\n",
       "      <td>1</td>\n",
       "      <td>0</td>\n",
       "      <td>0</td>\n",
       "      <td>1</td>\n",
       "      <td>0</td>\n",
       "      <td>1</td>\n",
       "      <td>0</td>\n",
       "      <td>0</td>\n",
       "    </tr>\n",
       "    <tr>\n",
       "      <th>3418</th>\n",
       "      <td>-0.368483</td>\n",
       "      <td>0.049282</td>\n",
       "      <td>0.042680</td>\n",
       "      <td>0.270208</td>\n",
       "      <td>0</td>\n",
       "      <td>0</td>\n",
       "      <td>1</td>\n",
       "      <td>0</td>\n",
       "      <td>1</td>\n",
       "      <td>0</td>\n",
       "      <td>...</td>\n",
       "      <td>0</td>\n",
       "      <td>0</td>\n",
       "      <td>1</td>\n",
       "      <td>0</td>\n",
       "      <td>1</td>\n",
       "      <td>0</td>\n",
       "      <td>0</td>\n",
       "      <td>0</td>\n",
       "      <td>0</td>\n",
       "      <td>1</td>\n",
       "    </tr>\n",
       "    <tr>\n",
       "      <th>3419</th>\n",
       "      <td>-0.438553</td>\n",
       "      <td>-0.933109</td>\n",
       "      <td>-0.538141</td>\n",
       "      <td>-0.792017</td>\n",
       "      <td>1</td>\n",
       "      <td>0</td>\n",
       "      <td>0</td>\n",
       "      <td>0</td>\n",
       "      <td>0</td>\n",
       "      <td>1</td>\n",
       "      <td>...</td>\n",
       "      <td>1</td>\n",
       "      <td>1</td>\n",
       "      <td>0</td>\n",
       "      <td>0</td>\n",
       "      <td>0</td>\n",
       "      <td>0</td>\n",
       "      <td>1</td>\n",
       "      <td>0</td>\n",
       "      <td>0</td>\n",
       "      <td>1</td>\n",
       "    </tr>\n",
       "  </tbody>\n",
       "</table>\n",
       "<p>3150 rows × 22 columns</p>\n",
       "</div>"
      ],
      "text/plain": [
       "          HTGD      ATGD       HTP       ATP  HM1_D  HM1_L  HM1_W  AM1_D  \\\n",
       "30    2.346720  0.645734  0.966714 -0.075015      0      0      1      1   \n",
       "31   -0.648762  1.978979 -2.042997  0.934098      0      1      0      0   \n",
       "32    0.016901  0.312422 -1.039760 -0.075015      1      0      0      1   \n",
       "33    0.682563 -0.354200 -0.538141 -1.084128      0      1      0      0   \n",
       "34    1.015395 -0.687512 -0.538141 -0.579572      1      0      0      1   \n",
       "...        ...       ...       ...       ...    ...    ...    ...    ...   \n",
       "3415  0.997877  0.961502  0.729106  0.748209      0      1      0      1   \n",
       "3416  2.189063 -1.564647  1.573937 -1.482463      0      0      1      0   \n",
       "3417 -0.613727  1.733381 -0.221330  2.500880      1      0      0      0   \n",
       "3418 -0.368483  0.049282  0.042680  0.270208      0      0      1      0   \n",
       "3419 -0.438553 -0.933109 -0.538141 -0.792017      1      0      0      0   \n",
       "\n",
       "      AM1_L  AM1_W  ...  HM2_W  AM2_D  AM2_L  AM2_W  HM3_D  HM3_L  HM3_W  \\\n",
       "30        0      0  ...      1      0      0      1      1      0      0   \n",
       "31        0      1  ...      0      1      0      0      0      1      0   \n",
       "32        0      0  ...      0      1      0      0      1      0      0   \n",
       "33        1      0  ...      1      0      1      0      1      0      0   \n",
       "34        0      0  ...      1      0      1      0      0      1      0   \n",
       "...     ...    ...  ...    ...    ...    ...    ...    ...    ...    ...   \n",
       "3415      0      0  ...      1      0      0      1      0      1      0   \n",
       "3416      1      0  ...      1      0      1      0      0      0      1   \n",
       "3417      0      1  ...      0      0      1      0      0      1      0   \n",
       "3418      1      0  ...      0      0      1      0      1      0      0   \n",
       "3419      0      1  ...      1      1      0      0      0      0      1   \n",
       "\n",
       "      AM3_D  AM3_L  AM3_W  \n",
       "30        1      0      0  \n",
       "31        0      0      1  \n",
       "32        0      0      1  \n",
       "33        0      0      1  \n",
       "34        0      0      1  \n",
       "...     ...    ...    ...  \n",
       "3415      1      0      0  \n",
       "3416      0      1      0  \n",
       "3417      1      0      0  \n",
       "3418      0      0      1  \n",
       "3419      0      0      1  \n",
       "\n",
       "[3150 rows x 22 columns]"
      ]
     },
     "metadata": {},
     "output_type": "display_data"
    }
   ],
   "source": [
    "X_all.drop(['HomeTeam', 'AwayTeam','FTHG', 'FTAG', 'MW','Date'],1, inplace=True)\n",
    "display(X_all)"
   ]
  },
  {
   "cell_type": "code",
   "execution_count": 28,
   "metadata": {},
   "outputs": [
    {
     "data": {
      "text/plain": [
       "<matplotlib.axes._subplots.AxesSubplot at 0x1709a081100>"
      ]
     },
     "execution_count": 28,
     "metadata": {},
     "output_type": "execute_result"
    },
    {
     "data": {
      "image/png": "[encoded data removed]",
      "text/plain": [
       "<Figure size 1512x1296 with 2 Axes>"
      ]
     },
     "metadata": {
      "needs_background": "light"
     },
     "output_type": "display_data"
    }
   ],
   "source": [
    "#Pearson Correlation heat map\n",
    "# Making a Pearson Heat Map\n",
    "# Mapping labels to 0 and 1\n",
    "y_all=y_all.map({'NH':0,'H':1})\n",
    "# Merging feature sets and labels\n",
    "train_data=pd.concat([X_all,y_all],axis=1)\n",
    "colormap = plt.cm.RdBu\n",
    "plt.figure(figsize=(21,18))\n",
    "plt.title('Pearson Correlation of Features', y=1.05, size=15)\n",
    "sns.heatmap(train_data.astype(float).corr(),linewidths=0.1,vmax=1.0,\n",
    "            square=True, cmap=colormap, linecolor='white', annot=True)"
   ]
  },
  {
   "cell_type": "markdown",
   "metadata": {},
   "source": [
    "**The above graph shows that the HTP and HTGD features are strongly correlated, and the ATP and ATGD features are also strongly correlated, indicating a case of multicollinearity. It is also easy to understand that the higher the average home weekly score,the higher the average home weekly goal differential.**\n",
    "\n",
    "**If we consider these variables, we can conclude that they give almost the same information and therefore multicollinearity actually occurs, and here we would consider removing the two features HTP and 'ATP' and keeping the two features HTGD and ATGD.**\n",
    "\n",
    "**Pearson heat maps are well suited to detect this situation and they are an essential tool in feature engineering. Also, we can see that the results of the last team's last match have less influence on the results of the current match, and here we consider keeping these features.**"
   ]
  },
  {
   "cell_type": "code",
   "execution_count": 29,
   "metadata": {},
   "outputs": [],
   "source": [
    "#Considering that the correlation between the sample set features HTP and HTGD, ATP and ATGD is over 90%,\n",
    "#we remove the features HTP , ATP.\n",
    "X_all=X_all.drop(['HTP','ATP'],axis=1)"
   ]
  },
  {
   "cell_type": "code",
   "execution_count": 30,
   "metadata": {},
   "outputs": [
    {
     "data": {
      "image/png": "[encoded data removed]",
      "text/plain": [
       "<Figure size 1008x864 with 2 Axes>"
      ]
     },
     "metadata": {
      "needs_background": "light"
     },
     "output_type": "display_data"
    }
   ],
   "source": [
    "#Take a look at the 10 most relevant characteristics of FTR\n",
    "#FTR correlation matrix\n",
    "plt.figure(figsize=(14,12))\n",
    "k = 10 # number of variables for heatmap\n",
    "cols = abs(train_data.astype(float).corr()).nlargest(k, 'FTR')['FTR'].index\n",
    "cm = np.corrcoef(train_data[cols].values.T)\n",
    "sns.set(font_scale=1.25)\n",
    "hm = sns.heatmap(cm, cbar=True, annot=True, square=True, fmt='.2f', annot_kws={'size': 10}, yticklabels=cols.values, xticklabels=cols.values)\n",
    "plt.show()\n",
    "\n",
    "#We can see that the most relevant feature is HTGD, \n",
    "#which indicates that the higher a team's weekly average goal difference at home, the higher their probability of winning."
   ]
  },
  {
   "cell_type": "markdown",
   "metadata": {},
   "source": [
    "# Part II -  Predictions "
   ]
  },
  {
   "cell_type": "markdown",
   "metadata": {},
   "source": [
    "### We chose three prediction models, Logistic Regression, SVC and XGB Classifier. First, let's build the model"
   ]
  },
  {
   "cell_type": "code",
   "execution_count": 31,
   "metadata": {},
   "outputs": [],
   "source": [
    "import joblib\n",
    "import xgboost as xgb\n",
    "from time import time\n",
    "from sklearn.svm import SVC\n",
    "from sklearn.metrics import f1_score\n",
    "from sklearn.metrics import make_scorer\n",
    "from sklearn.model_selection import GridSearchCV\n",
    "from sklearn.linear_model import LogisticRegression\n",
    "from sklearn.model_selection import train_test_split\n",
    "\n",
    "X_train, X_test, y_train, y_test = train_test_split(X_all, y_all,test_size = 0.3,random_state = 2,stratify = y_all)"
   ]
  },
  {
   "cell_type": "code",
   "execution_count": 32,
   "metadata": {},
   "outputs": [],
   "source": [
    "def train_classifier(clf, X_train, y_train):\n",
    "    ''' Training models '''\n",
    "    # Record training hours\n",
    "    start = time()\n",
    "    clf.fit(X_train, y_train)\n",
    "    end = time()\n",
    "    print(\"train time {:.4f} second\".format(end - start))\n",
    "    \n",
    "def predict_labels(clf, features, target):\n",
    "    ''' Using models for forecasting '''\n",
    "    # Recording of forecast hours\n",
    "    start = time()\n",
    "    y_pred = clf.predict(features)\n",
    "    end = time()\n",
    "    print(\"predict time in {:.4f} second\".format(end - start))\n",
    "    return f1_score(target, y_pred, pos_label=1), sum(target == y_pred) / float(len(y_pred))\n",
    "\n",
    "def train_predict(clf, X_train, y_train, X_test, y_test):\n",
    "    ''' Train and evaluate models '''\n",
    "    # Indicate the classifier and the training set size\n",
    "    print(\"Training {} model, number of samples {}。\".format(clf.__class__.__name__, len(X_train)))\n",
    "    # Training models\n",
    "    train_classifier(clf, X_train, y_train)\n",
    "    # Evaluating the model on the test set\n",
    "    f1, acc = predict_labels(clf, X_train, y_train)\n",
    "    print(\"The F1 scores and accuracies on the training set are: {:.4f} , {:.4f}。\".format(f1 , acc))\n",
    "\n",
    "    f1, acc = predict_labels(clf, X_test, y_test)\n",
    "    print(\"The F1 scores and accuracies on the test set are: {:.4f} , {:.4f}。\".format(f1 , acc))"
   ]
  },
  {
   "cell_type": "code",
   "execution_count": 33,
   "metadata": {},
   "outputs": [
    {
     "name": "stdout",
     "output_type": "stream",
     "text": [
      "Training LogisticRegression model, number of samples 2205。\n",
      "train time 0.0477 second\n",
      "predict time in 0.0040 second\n",
      "The F1 scores and accuracies on the training set are: 0.6151 , 0.6658。\n",
      "predict time in 0.0056 second\n",
      "The F1 scores and accuracies on the test set are: 0.5621 , 0.6307。\n",
      "\n",
      "Training SVC model, number of samples 2205。\n",
      "train time 0.4489 second\n",
      "predict time in 0.9058 second\n",
      "The F1 scores and accuracies on the training set are: 0.6098 , 0.6807。\n",
      "predict time in 0.3587 second\n",
      "The F1 scores and accuracies on the test set are: 0.5210 , 0.6265。\n",
      "\n",
      "Training XGBClassifier model, number of samples 2205。\n"
     ]
    },
    {
     "name": "stderr",
     "output_type": "stream",
     "text": [
      "d:\\nasdaq\\venv\\lib\\site-packages\\xgboost\\sklearn.py:888: UserWarning: The use of label encoder in XGBClassifier is deprecated and will be removed in a future release. To remove this warning, do the following: 1) Pass option use_label_encoder=False when constructing XGBClassifier object; and 2) Encode your labels (y) as integers starting with 0, i.e. 0, 1, 2, ..., [num_class - 1].\n",
      "  warnings.warn(label_encoder_deprecation_msg, UserWarning)\n"
     ]
    },
    {
     "name": "stdout",
     "output_type": "stream",
     "text": [
      "[23:04:06] WARNING: C:/Users/Administrator/workspace/xgboost-win64_release_1.3.0/src/learner.cc:1061: Starting in XGBoost 1.3.0, the default evaluation metric used with the objective 'binary:logistic' was changed from 'error' to 'logloss'. Explicitly set eval_metric if you'd like to restore the old behavior.\n",
      "train time 1.0878 second\n",
      "predict time in 0.0146 second\n",
      "The F1 scores and accuracies on the training set are: 0.9538 , 0.9578。\n",
      "predict time in 0.0092 second\n",
      "The F1 scores and accuracies on the test set are: 0.5457 , 0.6159。\n",
      "\n"
     ]
    }
   ],
   "source": [
    "# Build three separate models\n",
    "clf_A = LogisticRegression(random_state = 42)\n",
    "clf_B = SVC(random_state = 42, kernel='rbf',gamma='auto')\n",
    "clf_C = xgb.XGBClassifier(seed = 42)\n",
    "\n",
    "train_predict(clf_A, X_train, y_train, X_test, y_test)\n",
    "print('')\n",
    "train_predict(clf_B, X_train, y_train, X_test, y_test)\n",
    "print('')\n",
    "train_predict(clf_C, X_train, y_train, X_test, y_test)\n",
    "print('')"
   ]
  },
  {
   "cell_type": "markdown",
   "metadata": {},
   "source": [
    "### We found that XGB Classifier performs very well in the training set, so we decided to use XGB Classifier and use Grid Search for tuning, and finally get the best model."
   ]
  },
  {
   "cell_type": "code",
   "execution_count": 34,
   "metadata": {},
   "outputs": [
    {
     "name": "stdout",
     "output_type": "stream",
     "text": [
      "[23:04:06] WARNING: C:/Users/Administrator/workspace/xgboost-win64_release_1.3.0/src/learner.cc:1061: Starting in XGBoost 1.3.0, the default evaluation metric used with the objective 'binary:logistic' was changed from 'error' to 'logloss'. Explicitly set eval_metric if you'd like to restore the old behavior.\n"
     ]
    },
    {
     "name": "stderr",
     "output_type": "stream",
     "text": [
      "d:\\nasdaq\\venv\\lib\\site-packages\\xgboost\\sklearn.py:888: UserWarning: The use of label encoder in XGBClassifier is deprecated and will be removed in a future release. To remove this warning, do the following: 1) Pass option use_label_encoder=False when constructing XGBClassifier object; and 2) Encode your labels (y) as integers starting with 0, i.e. 0, 1, 2, ..., [num_class - 1].\n",
      "  warnings.warn(label_encoder_deprecation_msg, UserWarning)\n",
      "d:\\nasdaq\\venv\\lib\\site-packages\\xgboost\\sklearn.py:888: UserWarning: The use of label encoder in XGBClassifier is deprecated and will be removed in a future release. To remove this warning, do the following: 1) Pass option use_label_encoder=False when constructing XGBClassifier object; and 2) Encode your labels (y) as integers starting with 0, i.e. 0, 1, 2, ..., [num_class - 1].\n",
      "  warnings.warn(label_encoder_deprecation_msg, UserWarning)\n"
     ]
    },
    {
     "name": "stdout",
     "output_type": "stream",
     "text": [
      "[23:04:06] WARNING: C:/Users/Administrator/workspace/xgboost-win64_release_1.3.0/src/learner.cc:1061: Starting in XGBoost 1.3.0, the default evaluation metric used with the objective 'binary:logistic' was changed from 'error' to 'logloss'. Explicitly set eval_metric if you'd like to restore the old behavior.\n"
     ]
    },
    {
     "name": "stderr",
     "output_type": "stream",
     "text": [
      "d:\\nasdaq\\venv\\lib\\site-packages\\xgboost\\sklearn.py:888: UserWarning: The use of label encoder in XGBClassifier is deprecated and will be removed in a future release. To remove this warning, do the following: 1) Pass option use_label_encoder=False when constructing XGBClassifier object; and 2) Encode your labels (y) as integers starting with 0, i.e. 0, 1, 2, ..., [num_class - 1].\n",
      "  warnings.warn(label_encoder_deprecation_msg, UserWarning)\n"
     ]
    },
    {
     "name": "stdout",
     "output_type": "stream",
     "text": [
      "[23:04:07] WARNING: C:/Users/Administrator/workspace/xgboost-win64_release_1.3.0/src/learner.cc:1061: Starting in XGBoost 1.3.0, the default evaluation metric used with the objective 'binary:logistic' was changed from 'error' to 'logloss'. Explicitly set eval_metric if you'd like to restore the old behavior.\n"
     ]
    },
    {
     "name": "stderr",
     "output_type": "stream",
     "text": [
      "d:\\nasdaq\\venv\\lib\\site-packages\\xgboost\\sklearn.py:888: UserWarning: The use of label encoder in XGBClassifier is deprecated and will be removed in a future release. To remove this warning, do the following: 1) Pass option use_label_encoder=False when constructing XGBClassifier object; and 2) Encode your labels (y) as integers starting with 0, i.e. 0, 1, 2, ..., [num_class - 1].\n",
      "  warnings.warn(label_encoder_deprecation_msg, UserWarning)\n"
     ]
    },
    {
     "name": "stdout",
     "output_type": "stream",
     "text": [
      "[23:04:07] WARNING: C:/Users/Administrator/workspace/xgboost-win64_release_1.3.0/src/learner.cc:1061: Starting in XGBoost 1.3.0, the default evaluation metric used with the objective 'binary:logistic' was changed from 'error' to 'logloss'. Explicitly set eval_metric if you'd like to restore the old behavior.\n"
     ]
    },
    {
     "name": "stderr",
     "output_type": "stream",
     "text": [
      "d:\\nasdaq\\venv\\lib\\site-packages\\xgboost\\sklearn.py:888: UserWarning: The use of label encoder in XGBClassifier is deprecated and will be removed in a future release. To remove this warning, do the following: 1) Pass option use_label_encoder=False when constructing XGBClassifier object; and 2) Encode your labels (y) as integers starting with 0, i.e. 0, 1, 2, ..., [num_class - 1].\n",
      "  warnings.warn(label_encoder_deprecation_msg, UserWarning)\n"
     ]
    },
    {
     "name": "stdout",
     "output_type": "stream",
     "text": [
      "[23:04:07] WARNING: C:/Users/Administrator/workspace/xgboost-win64_release_1.3.0/src/learner.cc:1061: Starting in XGBoost 1.3.0, the default evaluation metric used with the objective 'binary:logistic' was changed from 'error' to 'logloss'. Explicitly set eval_metric if you'd like to restore the old behavior.\n"
     ]
    },
    {
     "name": "stderr",
     "output_type": "stream",
     "text": [
      "d:\\nasdaq\\venv\\lib\\site-packages\\xgboost\\sklearn.py:888: UserWarning: The use of label encoder in XGBClassifier is deprecated and will be removed in a future release. To remove this warning, do the following: 1) Pass option use_label_encoder=False when constructing XGBClassifier object; and 2) Encode your labels (y) as integers starting with 0, i.e. 0, 1, 2, ..., [num_class - 1].\n",
      "  warnings.warn(label_encoder_deprecation_msg, UserWarning)\n"
     ]
    },
    {
     "name": "stdout",
     "output_type": "stream",
     "text": [
      "[23:04:08] WARNING: C:/Users/Administrator/workspace/xgboost-win64_release_1.3.0/src/learner.cc:1061: Starting in XGBoost 1.3.0, the default evaluation metric used with the objective 'binary:logistic' was changed from 'error' to 'logloss'. Explicitly set eval_metric if you'd like to restore the old behavior.\n"
     ]
    },
    {
     "name": "stderr",
     "output_type": "stream",
     "text": [
      "d:\\nasdaq\\venv\\lib\\site-packages\\xgboost\\sklearn.py:888: UserWarning: The use of label encoder in XGBClassifier is deprecated and will be removed in a future release. To remove this warning, do the following: 1) Pass option use_label_encoder=False when constructing XGBClassifier object; and 2) Encode your labels (y) as integers starting with 0, i.e. 0, 1, 2, ..., [num_class - 1].\n",
      "  warnings.warn(label_encoder_deprecation_msg, UserWarning)\n"
     ]
    },
    {
     "name": "stdout",
     "output_type": "stream",
     "text": [
      "[23:04:08] WARNING: C:/Users/Administrator/workspace/xgboost-win64_release_1.3.0/src/learner.cc:1061: Starting in XGBoost 1.3.0, the default evaluation metric used with the objective 'binary:logistic' was changed from 'error' to 'logloss'. Explicitly set eval_metric if you'd like to restore the old behavior.\n"
     ]
    },
    {
     "name": "stderr",
     "output_type": "stream",
     "text": [
      "d:\\nasdaq\\venv\\lib\\site-packages\\xgboost\\sklearn.py:888: UserWarning: The use of label encoder in XGBClassifier is deprecated and will be removed in a future release. To remove this warning, do the following: 1) Pass option use_label_encoder=False when constructing XGBClassifier object; and 2) Encode your labels (y) as integers starting with 0, i.e. 0, 1, 2, ..., [num_class - 1].\n",
      "  warnings.warn(label_encoder_deprecation_msg, UserWarning)\n"
     ]
    },
    {
     "name": "stdout",
     "output_type": "stream",
     "text": [
      "[23:04:08] WARNING: C:/Users/Administrator/workspace/xgboost-win64_release_1.3.0/src/learner.cc:1061: Starting in XGBoost 1.3.0, the default evaluation metric used with the objective 'binary:logistic' was changed from 'error' to 'logloss'. Explicitly set eval_metric if you'd like to restore the old behavior.\n"
     ]
    },
    {
     "name": "stderr",
     "output_type": "stream",
     "text": [
      "d:\\nasdaq\\venv\\lib\\site-packages\\xgboost\\sklearn.py:888: UserWarning: The use of label encoder in XGBClassifier is deprecated and will be removed in a future release. To remove this warning, do the following: 1) Pass option use_label_encoder=False when constructing XGBClassifier object; and 2) Encode your labels (y) as integers starting with 0, i.e. 0, 1, 2, ..., [num_class - 1].\n",
      "  warnings.warn(label_encoder_deprecation_msg, UserWarning)\n"
     ]
    },
    {
     "name": "stdout",
     "output_type": "stream",
     "text": [
      "[23:04:09] WARNING: C:/Users/Administrator/workspace/xgboost-win64_release_1.3.0/src/learner.cc:1061: Starting in XGBoost 1.3.0, the default evaluation metric used with the objective 'binary:logistic' was changed from 'error' to 'logloss'. Explicitly set eval_metric if you'd like to restore the old behavior.\n"
     ]
    },
    {
     "name": "stderr",
     "output_type": "stream",
     "text": [
      "d:\\nasdaq\\venv\\lib\\site-packages\\xgboost\\sklearn.py:888: UserWarning: The use of label encoder in XGBClassifier is deprecated and will be removed in a future release. To remove this warning, do the following: 1) Pass option use_label_encoder=False when constructing XGBClassifier object; and 2) Encode your labels (y) as integers starting with 0, i.e. 0, 1, 2, ..., [num_class - 1].\n",
      "  warnings.warn(label_encoder_deprecation_msg, UserWarning)\n"
     ]
    },
    {
     "name": "stdout",
     "output_type": "stream",
     "text": [
      "[23:04:09] WARNING: C:/Users/Administrator/workspace/xgboost-win64_release_1.3.0/src/learner.cc:1061: Starting in XGBoost 1.3.0, the default evaluation metric used with the objective 'binary:logistic' was changed from 'error' to 'logloss'. Explicitly set eval_metric if you'd like to restore the old behavior.\n"
     ]
    },
    {
     "name": "stderr",
     "output_type": "stream",
     "text": [
      "d:\\nasdaq\\venv\\lib\\site-packages\\xgboost\\sklearn.py:888: UserWarning: The use of label encoder in XGBClassifier is deprecated and will be removed in a future release. To remove this warning, do the following: 1) Pass option use_label_encoder=False when constructing XGBClassifier object; and 2) Encode your labels (y) as integers starting with 0, i.e. 0, 1, 2, ..., [num_class - 1].\n",
      "  warnings.warn(label_encoder_deprecation_msg, UserWarning)\n"
     ]
    },
    {
     "name": "stdout",
     "output_type": "stream",
     "text": [
      "[23:04:09] WARNING: C:/Users/Administrator/workspace/xgboost-win64_release_1.3.0/src/learner.cc:1061: Starting in XGBoost 1.3.0, the default evaluation metric used with the objective 'binary:logistic' was changed from 'error' to 'logloss'. Explicitly set eval_metric if you'd like to restore the old behavior.\n"
     ]
    },
    {
     "name": "stderr",
     "output_type": "stream",
     "text": [
      "d:\\nasdaq\\venv\\lib\\site-packages\\xgboost\\sklearn.py:888: UserWarning: The use of label encoder in XGBClassifier is deprecated and will be removed in a future release. To remove this warning, do the following: 1) Pass option use_label_encoder=False when constructing XGBClassifier object; and 2) Encode your labels (y) as integers starting with 0, i.e. 0, 1, 2, ..., [num_class - 1].\n",
      "  warnings.warn(label_encoder_deprecation_msg, UserWarning)\n"
     ]
    },
    {
     "name": "stdout",
     "output_type": "stream",
     "text": [
      "[23:04:10] WARNING: C:/Users/Administrator/workspace/xgboost-win64_release_1.3.0/src/learner.cc:1061: Starting in XGBoost 1.3.0, the default evaluation metric used with the objective 'binary:logistic' was changed from 'error' to 'logloss'. Explicitly set eval_metric if you'd like to restore the old behavior.\n"
     ]
    },
    {
     "name": "stderr",
     "output_type": "stream",
     "text": [
      "d:\\nasdaq\\venv\\lib\\site-packages\\xgboost\\sklearn.py:888: UserWarning: The use of label encoder in XGBClassifier is deprecated and will be removed in a future release. To remove this warning, do the following: 1) Pass option use_label_encoder=False when constructing XGBClassifier object; and 2) Encode your labels (y) as integers starting with 0, i.e. 0, 1, 2, ..., [num_class - 1].\n",
      "  warnings.warn(label_encoder_deprecation_msg, UserWarning)\n"
     ]
    },
    {
     "name": "stdout",
     "output_type": "stream",
     "text": [
      "[23:04:10] WARNING: C:/Users/Administrator/workspace/xgboost-win64_release_1.3.0/src/learner.cc:1061: Starting in XGBoost 1.3.0, the default evaluation metric used with the objective 'binary:logistic' was changed from 'error' to 'logloss'. Explicitly set eval_metric if you'd like to restore the old behavior.\n"
     ]
    },
    {
     "name": "stderr",
     "output_type": "stream",
     "text": [
      "d:\\nasdaq\\venv\\lib\\site-packages\\xgboost\\sklearn.py:888: UserWarning: The use of label encoder in XGBClassifier is deprecated and will be removed in a future release. To remove this warning, do the following: 1) Pass option use_label_encoder=False when constructing XGBClassifier object; and 2) Encode your labels (y) as integers starting with 0, i.e. 0, 1, 2, ..., [num_class - 1].\n",
      "  warnings.warn(label_encoder_deprecation_msg, UserWarning)\n"
     ]
    },
    {
     "name": "stdout",
     "output_type": "stream",
     "text": [
      "[23:04:10] WARNING: C:/Users/Administrator/workspace/xgboost-win64_release_1.3.0/src/learner.cc:1061: Starting in XGBoost 1.3.0, the default evaluation metric used with the objective 'binary:logistic' was changed from 'error' to 'logloss'. Explicitly set eval_metric if you'd like to restore the old behavior.\n"
     ]
    },
    {
     "name": "stderr",
     "output_type": "stream",
     "text": [
      "d:\\nasdaq\\venv\\lib\\site-packages\\xgboost\\sklearn.py:888: UserWarning: The use of label encoder in XGBClassifier is deprecated and will be removed in a future release. To remove this warning, do the following: 1) Pass option use_label_encoder=False when constructing XGBClassifier object; and 2) Encode your labels (y) as integers starting with 0, i.e. 0, 1, 2, ..., [num_class - 1].\n",
      "  warnings.warn(label_encoder_deprecation_msg, UserWarning)\n"
     ]
    },
    {
     "name": "stdout",
     "output_type": "stream",
     "text": [
      "[23:04:11] WARNING: C:/Users/Administrator/workspace/xgboost-win64_release_1.3.0/src/learner.cc:1061: Starting in XGBoost 1.3.0, the default evaluation metric used with the objective 'binary:logistic' was changed from 'error' to 'logloss'. Explicitly set eval_metric if you'd like to restore the old behavior.\n"
     ]
    },
    {
     "name": "stderr",
     "output_type": "stream",
     "text": [
      "d:\\nasdaq\\venv\\lib\\site-packages\\xgboost\\sklearn.py:888: UserWarning: The use of label encoder in XGBClassifier is deprecated and will be removed in a future release. To remove this warning, do the following: 1) Pass option use_label_encoder=False when constructing XGBClassifier object; and 2) Encode your labels (y) as integers starting with 0, i.e. 0, 1, 2, ..., [num_class - 1].\n",
      "  warnings.warn(label_encoder_deprecation_msg, UserWarning)\n"
     ]
    },
    {
     "name": "stdout",
     "output_type": "stream",
     "text": [
      "[23:04:11] WARNING: C:/Users/Administrator/workspace/xgboost-win64_release_1.3.0/src/learner.cc:1061: Starting in XGBoost 1.3.0, the default evaluation metric used with the objective 'binary:logistic' was changed from 'error' to 'logloss'. Explicitly set eval_metric if you'd like to restore the old behavior.\n"
     ]
    },
    {
     "name": "stderr",
     "output_type": "stream",
     "text": [
      "d:\\nasdaq\\venv\\lib\\site-packages\\xgboost\\sklearn.py:888: UserWarning: The use of label encoder in XGBClassifier is deprecated and will be removed in a future release. To remove this warning, do the following: 1) Pass option use_label_encoder=False when constructing XGBClassifier object; and 2) Encode your labels (y) as integers starting with 0, i.e. 0, 1, 2, ..., [num_class - 1].\n",
      "  warnings.warn(label_encoder_deprecation_msg, UserWarning)\n"
     ]
    },
    {
     "name": "stdout",
     "output_type": "stream",
     "text": [
      "[23:04:12] WARNING: C:/Users/Administrator/workspace/xgboost-win64_release_1.3.0/src/learner.cc:1061: Starting in XGBoost 1.3.0, the default evaluation metric used with the objective 'binary:logistic' was changed from 'error' to 'logloss'. Explicitly set eval_metric if you'd like to restore the old behavior.\n"
     ]
    },
    {
     "name": "stderr",
     "output_type": "stream",
     "text": [
      "d:\\nasdaq\\venv\\lib\\site-packages\\xgboost\\sklearn.py:888: UserWarning: The use of label encoder in XGBClassifier is deprecated and will be removed in a future release. To remove this warning, do the following: 1) Pass option use_label_encoder=False when constructing XGBClassifier object; and 2) Encode your labels (y) as integers starting with 0, i.e. 0, 1, 2, ..., [num_class - 1].\n",
      "  warnings.warn(label_encoder_deprecation_msg, UserWarning)\n"
     ]
    },
    {
     "name": "stdout",
     "output_type": "stream",
     "text": [
      "[23:04:12] WARNING: C:/Users/Administrator/workspace/xgboost-win64_release_1.3.0/src/learner.cc:1061: Starting in XGBoost 1.3.0, the default evaluation metric used with the objective 'binary:logistic' was changed from 'error' to 'logloss'. Explicitly set eval_metric if you'd like to restore the old behavior.\n"
     ]
    },
    {
     "name": "stderr",
     "output_type": "stream",
     "text": [
      "d:\\nasdaq\\venv\\lib\\site-packages\\xgboost\\sklearn.py:888: UserWarning: The use of label encoder in XGBClassifier is deprecated and will be removed in a future release. To remove this warning, do the following: 1) Pass option use_label_encoder=False when constructing XGBClassifier object; and 2) Encode your labels (y) as integers starting with 0, i.e. 0, 1, 2, ..., [num_class - 1].\n",
      "  warnings.warn(label_encoder_deprecation_msg, UserWarning)\n"
     ]
    },
    {
     "name": "stdout",
     "output_type": "stream",
     "text": [
      "[23:04:12] WARNING: C:/Users/Administrator/workspace/xgboost-win64_release_1.3.0/src/learner.cc:1061: Starting in XGBoost 1.3.0, the default evaluation metric used with the objective 'binary:logistic' was changed from 'error' to 'logloss'. Explicitly set eval_metric if you'd like to restore the old behavior.\n"
     ]
    },
    {
     "name": "stderr",
     "output_type": "stream",
     "text": [
      "d:\\nasdaq\\venv\\lib\\site-packages\\xgboost\\sklearn.py:888: UserWarning: The use of label encoder in XGBClassifier is deprecated and will be removed in a future release. To remove this warning, do the following: 1) Pass option use_label_encoder=False when constructing XGBClassifier object; and 2) Encode your labels (y) as integers starting with 0, i.e. 0, 1, 2, ..., [num_class - 1].\n",
      "  warnings.warn(label_encoder_deprecation_msg, UserWarning)\n"
     ]
    },
    {
     "name": "stdout",
     "output_type": "stream",
     "text": [
      "[23:04:13] WARNING: C:/Users/Administrator/workspace/xgboost-win64_release_1.3.0/src/learner.cc:1061: Starting in XGBoost 1.3.0, the default evaluation metric used with the objective 'binary:logistic' was changed from 'error' to 'logloss'. Explicitly set eval_metric if you'd like to restore the old behavior.\n"
     ]
    },
    {
     "name": "stderr",
     "output_type": "stream",
     "text": [
      "d:\\nasdaq\\venv\\lib\\site-packages\\xgboost\\sklearn.py:888: UserWarning: The use of label encoder in XGBClassifier is deprecated and will be removed in a future release. To remove this warning, do the following: 1) Pass option use_label_encoder=False when constructing XGBClassifier object; and 2) Encode your labels (y) as integers starting with 0, i.e. 0, 1, 2, ..., [num_class - 1].\n",
      "  warnings.warn(label_encoder_deprecation_msg, UserWarning)\n"
     ]
    },
    {
     "name": "stdout",
     "output_type": "stream",
     "text": [
      "[23:04:13] WARNING: C:/Users/Administrator/workspace/xgboost-win64_release_1.3.0/src/learner.cc:1061: Starting in XGBoost 1.3.0, the default evaluation metric used with the objective 'binary:logistic' was changed from 'error' to 'logloss'. Explicitly set eval_metric if you'd like to restore the old behavior.\n"
     ]
    },
    {
     "name": "stderr",
     "output_type": "stream",
     "text": [
      "d:\\nasdaq\\venv\\lib\\site-packages\\xgboost\\sklearn.py:888: UserWarning: The use of label encoder in XGBClassifier is deprecated and will be removed in a future release. To remove this warning, do the following: 1) Pass option use_label_encoder=False when constructing XGBClassifier object; and 2) Encode your labels (y) as integers starting with 0, i.e. 0, 1, 2, ..., [num_class - 1].\n",
      "  warnings.warn(label_encoder_deprecation_msg, UserWarning)\n"
     ]
    },
    {
     "name": "stdout",
     "output_type": "stream",
     "text": [
      "[23:04:14] WARNING: C:/Users/Administrator/workspace/xgboost-win64_release_1.3.0/src/learner.cc:1061: Starting in XGBoost 1.3.0, the default evaluation metric used with the objective 'binary:logistic' was changed from 'error' to 'logloss'. Explicitly set eval_metric if you'd like to restore the old behavior.\n"
     ]
    },
    {
     "name": "stderr",
     "output_type": "stream",
     "text": [
      "d:\\nasdaq\\venv\\lib\\site-packages\\xgboost\\sklearn.py:888: UserWarning: The use of label encoder in XGBClassifier is deprecated and will be removed in a future release. To remove this warning, do the following: 1) Pass option use_label_encoder=False when constructing XGBClassifier object; and 2) Encode your labels (y) as integers starting with 0, i.e. 0, 1, 2, ..., [num_class - 1].\n",
      "  warnings.warn(label_encoder_deprecation_msg, UserWarning)\n"
     ]
    },
    {
     "name": "stdout",
     "output_type": "stream",
     "text": [
      "[23:04:14] WARNING: C:/Users/Administrator/workspace/xgboost-win64_release_1.3.0/src/learner.cc:1061: Starting in XGBoost 1.3.0, the default evaluation metric used with the objective 'binary:logistic' was changed from 'error' to 'logloss'. Explicitly set eval_metric if you'd like to restore the old behavior.\n"
     ]
    },
    {
     "name": "stderr",
     "output_type": "stream",
     "text": [
      "d:\\nasdaq\\venv\\lib\\site-packages\\xgboost\\sklearn.py:888: UserWarning: The use of label encoder in XGBClassifier is deprecated and will be removed in a future release. To remove this warning, do the following: 1) Pass option use_label_encoder=False when constructing XGBClassifier object; and 2) Encode your labels (y) as integers starting with 0, i.e. 0, 1, 2, ..., [num_class - 1].\n",
      "  warnings.warn(label_encoder_deprecation_msg, UserWarning)\n"
     ]
    },
    {
     "name": "stdout",
     "output_type": "stream",
     "text": [
      "[23:04:15] WARNING: C:/Users/Administrator/workspace/xgboost-win64_release_1.3.0/src/learner.cc:1061: Starting in XGBoost 1.3.0, the default evaluation metric used with the objective 'binary:logistic' was changed from 'error' to 'logloss'. Explicitly set eval_metric if you'd like to restore the old behavior.\n"
     ]
    },
    {
     "name": "stderr",
     "output_type": "stream",
     "text": [
      "d:\\nasdaq\\venv\\lib\\site-packages\\xgboost\\sklearn.py:888: UserWarning: The use of label encoder in XGBClassifier is deprecated and will be removed in a future release. To remove this warning, do the following: 1) Pass option use_label_encoder=False when constructing XGBClassifier object; and 2) Encode your labels (y) as integers starting with 0, i.e. 0, 1, 2, ..., [num_class - 1].\n",
      "  warnings.warn(label_encoder_deprecation_msg, UserWarning)\n"
     ]
    },
    {
     "name": "stdout",
     "output_type": "stream",
     "text": [
      "[23:04:15] WARNING: C:/Users/Administrator/workspace/xgboost-win64_release_1.3.0/src/learner.cc:1061: Starting in XGBoost 1.3.0, the default evaluation metric used with the objective 'binary:logistic' was changed from 'error' to 'logloss'. Explicitly set eval_metric if you'd like to restore the old behavior.\n"
     ]
    },
    {
     "name": "stderr",
     "output_type": "stream",
     "text": [
      "d:\\nasdaq\\venv\\lib\\site-packages\\xgboost\\sklearn.py:888: UserWarning: The use of label encoder in XGBClassifier is deprecated and will be removed in a future release. To remove this warning, do the following: 1) Pass option use_label_encoder=False when constructing XGBClassifier object; and 2) Encode your labels (y) as integers starting with 0, i.e. 0, 1, 2, ..., [num_class - 1].\n",
      "  warnings.warn(label_encoder_deprecation_msg, UserWarning)\n"
     ]
    },
    {
     "name": "stdout",
     "output_type": "stream",
     "text": [
      "[23:04:15] WARNING: C:/Users/Administrator/workspace/xgboost-win64_release_1.3.0/src/learner.cc:1061: Starting in XGBoost 1.3.0, the default evaluation metric used with the objective 'binary:logistic' was changed from 'error' to 'logloss'. Explicitly set eval_metric if you'd like to restore the old behavior.\n"
     ]
    },
    {
     "name": "stderr",
     "output_type": "stream",
     "text": [
      "d:\\nasdaq\\venv\\lib\\site-packages\\xgboost\\sklearn.py:888: UserWarning: The use of label encoder in XGBClassifier is deprecated and will be removed in a future release. To remove this warning, do the following: 1) Pass option use_label_encoder=False when constructing XGBClassifier object; and 2) Encode your labels (y) as integers starting with 0, i.e. 0, 1, 2, ..., [num_class - 1].\n",
      "  warnings.warn(label_encoder_deprecation_msg, UserWarning)\n"
     ]
    },
    {
     "name": "stdout",
     "output_type": "stream",
     "text": [
      "[23:04:16] WARNING: C:/Users/Administrator/workspace/xgboost-win64_release_1.3.0/src/learner.cc:1061: Starting in XGBoost 1.3.0, the default evaluation metric used with the objective 'binary:logistic' was changed from 'error' to 'logloss'. Explicitly set eval_metric if you'd like to restore the old behavior.\n"
     ]
    },
    {
     "name": "stderr",
     "output_type": "stream",
     "text": [
      "d:\\nasdaq\\venv\\lib\\site-packages\\xgboost\\sklearn.py:888: UserWarning: The use of label encoder in XGBClassifier is deprecated and will be removed in a future release. To remove this warning, do the following: 1) Pass option use_label_encoder=False when constructing XGBClassifier object; and 2) Encode your labels (y) as integers starting with 0, i.e. 0, 1, 2, ..., [num_class - 1].\n",
      "  warnings.warn(label_encoder_deprecation_msg, UserWarning)\n"
     ]
    },
    {
     "name": "stdout",
     "output_type": "stream",
     "text": [
      "[23:04:17] WARNING: C:/Users/Administrator/workspace/xgboost-win64_release_1.3.0/src/learner.cc:1061: Starting in XGBoost 1.3.0, the default evaluation metric used with the objective 'binary:logistic' was changed from 'error' to 'logloss'. Explicitly set eval_metric if you'd like to restore the old behavior.\n"
     ]
    },
    {
     "name": "stderr",
     "output_type": "stream",
     "text": [
      "d:\\nasdaq\\venv\\lib\\site-packages\\xgboost\\sklearn.py:888: UserWarning: The use of label encoder in XGBClassifier is deprecated and will be removed in a future release. To remove this warning, do the following: 1) Pass option use_label_encoder=False when constructing XGBClassifier object; and 2) Encode your labels (y) as integers starting with 0, i.e. 0, 1, 2, ..., [num_class - 1].\n",
      "  warnings.warn(label_encoder_deprecation_msg, UserWarning)\n"
     ]
    },
    {
     "name": "stdout",
     "output_type": "stream",
     "text": [
      "[23:04:17] WARNING: C:/Users/Administrator/workspace/xgboost-win64_release_1.3.0/src/learner.cc:1061: Starting in XGBoost 1.3.0, the default evaluation metric used with the objective 'binary:logistic' was changed from 'error' to 'logloss'. Explicitly set eval_metric if you'd like to restore the old behavior.\n"
     ]
    },
    {
     "name": "stderr",
     "output_type": "stream",
     "text": [
      "d:\\nasdaq\\venv\\lib\\site-packages\\xgboost\\sklearn.py:888: UserWarning: The use of label encoder in XGBClassifier is deprecated and will be removed in a future release. To remove this warning, do the following: 1) Pass option use_label_encoder=False when constructing XGBClassifier object; and 2) Encode your labels (y) as integers starting with 0, i.e. 0, 1, 2, ..., [num_class - 1].\n",
      "  warnings.warn(label_encoder_deprecation_msg, UserWarning)\n"
     ]
    },
    {
     "name": "stdout",
     "output_type": "stream",
     "text": [
      "[23:04:18] WARNING: C:/Users/Administrator/workspace/xgboost-win64_release_1.3.0/src/learner.cc:1061: Starting in XGBoost 1.3.0, the default evaluation metric used with the objective 'binary:logistic' was changed from 'error' to 'logloss'. Explicitly set eval_metric if you'd like to restore the old behavior.\n"
     ]
    },
    {
     "name": "stderr",
     "output_type": "stream",
     "text": [
      "d:\\nasdaq\\venv\\lib\\site-packages\\xgboost\\sklearn.py:888: UserWarning: The use of label encoder in XGBClassifier is deprecated and will be removed in a future release. To remove this warning, do the following: 1) Pass option use_label_encoder=False when constructing XGBClassifier object; and 2) Encode your labels (y) as integers starting with 0, i.e. 0, 1, 2, ..., [num_class - 1].\n",
      "  warnings.warn(label_encoder_deprecation_msg, UserWarning)\n"
     ]
    },
    {
     "name": "stdout",
     "output_type": "stream",
     "text": [
      "[23:04:18] WARNING: C:/Users/Administrator/workspace/xgboost-win64_release_1.3.0/src/learner.cc:1061: Starting in XGBoost 1.3.0, the default evaluation metric used with the objective 'binary:logistic' was changed from 'error' to 'logloss'. Explicitly set eval_metric if you'd like to restore the old behavior.\n"
     ]
    },
    {
     "name": "stderr",
     "output_type": "stream",
     "text": [
      "d:\\nasdaq\\venv\\lib\\site-packages\\xgboost\\sklearn.py:888: UserWarning: The use of label encoder in XGBClassifier is deprecated and will be removed in a future release. To remove this warning, do the following: 1) Pass option use_label_encoder=False when constructing XGBClassifier object; and 2) Encode your labels (y) as integers starting with 0, i.e. 0, 1, 2, ..., [num_class - 1].\n",
      "  warnings.warn(label_encoder_deprecation_msg, UserWarning)\n"
     ]
    },
    {
     "name": "stdout",
     "output_type": "stream",
     "text": [
      "[23:04:18] WARNING: C:/Users/Administrator/workspace/xgboost-win64_release_1.3.0/src/learner.cc:1061: Starting in XGBoost 1.3.0, the default evaluation metric used with the objective 'binary:logistic' was changed from 'error' to 'logloss'. Explicitly set eval_metric if you'd like to restore the old behavior.\n"
     ]
    },
    {
     "name": "stderr",
     "output_type": "stream",
     "text": [
      "d:\\nasdaq\\venv\\lib\\site-packages\\xgboost\\sklearn.py:888: UserWarning: The use of label encoder in XGBClassifier is deprecated and will be removed in a future release. To remove this warning, do the following: 1) Pass option use_label_encoder=False when constructing XGBClassifier object; and 2) Encode your labels (y) as integers starting with 0, i.e. 0, 1, 2, ..., [num_class - 1].\n",
      "  warnings.warn(label_encoder_deprecation_msg, UserWarning)\n"
     ]
    },
    {
     "name": "stdout",
     "output_type": "stream",
     "text": [
      "[23:04:19] WARNING: C:/Users/Administrator/workspace/xgboost-win64_release_1.3.0/src/learner.cc:1061: Starting in XGBoost 1.3.0, the default evaluation metric used with the objective 'binary:logistic' was changed from 'error' to 'logloss'. Explicitly set eval_metric if you'd like to restore the old behavior.\n"
     ]
    },
    {
     "name": "stderr",
     "output_type": "stream",
     "text": [
      "d:\\nasdaq\\venv\\lib\\site-packages\\xgboost\\sklearn.py:888: UserWarning: The use of label encoder in XGBClassifier is deprecated and will be removed in a future release. To remove this warning, do the following: 1) Pass option use_label_encoder=False when constructing XGBClassifier object; and 2) Encode your labels (y) as integers starting with 0, i.e. 0, 1, 2, ..., [num_class - 1].\n",
      "  warnings.warn(label_encoder_deprecation_msg, UserWarning)\n"
     ]
    },
    {
     "name": "stdout",
     "output_type": "stream",
     "text": [
      "[23:04:19] WARNING: C:/Users/Administrator/workspace/xgboost-win64_release_1.3.0/src/learner.cc:1061: Starting in XGBoost 1.3.0, the default evaluation metric used with the objective 'binary:logistic' was changed from 'error' to 'logloss'. Explicitly set eval_metric if you'd like to restore the old behavior.\n"
     ]
    },
    {
     "name": "stderr",
     "output_type": "stream",
     "text": [
      "d:\\nasdaq\\venv\\lib\\site-packages\\xgboost\\sklearn.py:888: UserWarning: The use of label encoder in XGBClassifier is deprecated and will be removed in a future release. To remove this warning, do the following: 1) Pass option use_label_encoder=False when constructing XGBClassifier object; and 2) Encode your labels (y) as integers starting with 0, i.e. 0, 1, 2, ..., [num_class - 1].\n",
      "  warnings.warn(label_encoder_deprecation_msg, UserWarning)\n"
     ]
    },
    {
     "name": "stdout",
     "output_type": "stream",
     "text": [
      "[23:04:20] WARNING: C:/Users/Administrator/workspace/xgboost-win64_release_1.3.0/src/learner.cc:1061: Starting in XGBoost 1.3.0, the default evaluation metric used with the objective 'binary:logistic' was changed from 'error' to 'logloss'. Explicitly set eval_metric if you'd like to restore the old behavior.\n"
     ]
    },
    {
     "name": "stderr",
     "output_type": "stream",
     "text": [
      "d:\\nasdaq\\venv\\lib\\site-packages\\xgboost\\sklearn.py:888: UserWarning: The use of label encoder in XGBClassifier is deprecated and will be removed in a future release. To remove this warning, do the following: 1) Pass option use_label_encoder=False when constructing XGBClassifier object; and 2) Encode your labels (y) as integers starting with 0, i.e. 0, 1, 2, ..., [num_class - 1].\n",
      "  warnings.warn(label_encoder_deprecation_msg, UserWarning)\n"
     ]
    },
    {
     "name": "stdout",
     "output_type": "stream",
     "text": [
      "[23:04:20] WARNING: C:/Users/Administrator/workspace/xgboost-win64_release_1.3.0/src/learner.cc:1061: Starting in XGBoost 1.3.0, the default evaluation metric used with the objective 'binary:logistic' was changed from 'error' to 'logloss'. Explicitly set eval_metric if you'd like to restore the old behavior.\n"
     ]
    },
    {
     "name": "stderr",
     "output_type": "stream",
     "text": [
      "d:\\nasdaq\\venv\\lib\\site-packages\\xgboost\\sklearn.py:888: UserWarning: The use of label encoder in XGBClassifier is deprecated and will be removed in a future release. To remove this warning, do the following: 1) Pass option use_label_encoder=False when constructing XGBClassifier object; and 2) Encode your labels (y) as integers starting with 0, i.e. 0, 1, 2, ..., [num_class - 1].\n",
      "  warnings.warn(label_encoder_deprecation_msg, UserWarning)\n"
     ]
    },
    {
     "name": "stdout",
     "output_type": "stream",
     "text": [
      "[23:04:21] WARNING: C:/Users/Administrator/workspace/xgboost-win64_release_1.3.0/src/learner.cc:1061: Starting in XGBoost 1.3.0, the default evaluation metric used with the objective 'binary:logistic' was changed from 'error' to 'logloss'. Explicitly set eval_metric if you'd like to restore the old behavior.\n"
     ]
    },
    {
     "name": "stderr",
     "output_type": "stream",
     "text": [
      "d:\\nasdaq\\venv\\lib\\site-packages\\xgboost\\sklearn.py:888: UserWarning: The use of label encoder in XGBClassifier is deprecated and will be removed in a future release. To remove this warning, do the following: 1) Pass option use_label_encoder=False when constructing XGBClassifier object; and 2) Encode your labels (y) as integers starting with 0, i.e. 0, 1, 2, ..., [num_class - 1].\n",
      "  warnings.warn(label_encoder_deprecation_msg, UserWarning)\n"
     ]
    },
    {
     "name": "stdout",
     "output_type": "stream",
     "text": [
      "[23:04:21] WARNING: C:/Users/Administrator/workspace/xgboost-win64_release_1.3.0/src/learner.cc:1061: Starting in XGBoost 1.3.0, the default evaluation metric used with the objective 'binary:logistic' was changed from 'error' to 'logloss'. Explicitly set eval_metric if you'd like to restore the old behavior.\n"
     ]
    },
    {
     "name": "stderr",
     "output_type": "stream",
     "text": [
      "d:\\nasdaq\\venv\\lib\\site-packages\\xgboost\\sklearn.py:888: UserWarning: The use of label encoder in XGBClassifier is deprecated and will be removed in a future release. To remove this warning, do the following: 1) Pass option use_label_encoder=False when constructing XGBClassifier object; and 2) Encode your labels (y) as integers starting with 0, i.e. 0, 1, 2, ..., [num_class - 1].\n",
      "  warnings.warn(label_encoder_deprecation_msg, UserWarning)\n"
     ]
    },
    {
     "name": "stdout",
     "output_type": "stream",
     "text": [
      "[23:04:22] WARNING: C:/Users/Administrator/workspace/xgboost-win64_release_1.3.0/src/learner.cc:1061: Starting in XGBoost 1.3.0, the default evaluation metric used with the objective 'binary:logistic' was changed from 'error' to 'logloss'. Explicitly set eval_metric if you'd like to restore the old behavior.\n"
     ]
    },
    {
     "name": "stderr",
     "output_type": "stream",
     "text": [
      "d:\\nasdaq\\venv\\lib\\site-packages\\xgboost\\sklearn.py:888: UserWarning: The use of label encoder in XGBClassifier is deprecated and will be removed in a future release. To remove this warning, do the following: 1) Pass option use_label_encoder=False when constructing XGBClassifier object; and 2) Encode your labels (y) as integers starting with 0, i.e. 0, 1, 2, ..., [num_class - 1].\n",
      "  warnings.warn(label_encoder_deprecation_msg, UserWarning)\n"
     ]
    },
    {
     "name": "stdout",
     "output_type": "stream",
     "text": [
      "[23:04:22] WARNING: C:/Users/Administrator/workspace/xgboost-win64_release_1.3.0/src/learner.cc:1061: Starting in XGBoost 1.3.0, the default evaluation metric used with the objective 'binary:logistic' was changed from 'error' to 'logloss'. Explicitly set eval_metric if you'd like to restore the old behavior.\n"
     ]
    },
    {
     "name": "stderr",
     "output_type": "stream",
     "text": [
      "d:\\nasdaq\\venv\\lib\\site-packages\\xgboost\\sklearn.py:888: UserWarning: The use of label encoder in XGBClassifier is deprecated and will be removed in a future release. To remove this warning, do the following: 1) Pass option use_label_encoder=False when constructing XGBClassifier object; and 2) Encode your labels (y) as integers starting with 0, i.e. 0, 1, 2, ..., [num_class - 1].\n",
      "  warnings.warn(label_encoder_deprecation_msg, UserWarning)\n"
     ]
    },
    {
     "name": "stdout",
     "output_type": "stream",
     "text": [
      "[23:04:23] WARNING: C:/Users/Administrator/workspace/xgboost-win64_release_1.3.0/src/learner.cc:1061: Starting in XGBoost 1.3.0, the default evaluation metric used with the objective 'binary:logistic' was changed from 'error' to 'logloss'. Explicitly set eval_metric if you'd like to restore the old behavior.\n"
     ]
    },
    {
     "name": "stderr",
     "output_type": "stream",
     "text": [
      "d:\\nasdaq\\venv\\lib\\site-packages\\xgboost\\sklearn.py:888: UserWarning: The use of label encoder in XGBClassifier is deprecated and will be removed in a future release. To remove this warning, do the following: 1) Pass option use_label_encoder=False when constructing XGBClassifier object; and 2) Encode your labels (y) as integers starting with 0, i.e. 0, 1, 2, ..., [num_class - 1].\n",
      "  warnings.warn(label_encoder_deprecation_msg, UserWarning)\n"
     ]
    },
    {
     "name": "stdout",
     "output_type": "stream",
     "text": [
      "[23:04:23] WARNING: C:/Users/Administrator/workspace/xgboost-win64_release_1.3.0/src/learner.cc:1061: Starting in XGBoost 1.3.0, the default evaluation metric used with the objective 'binary:logistic' was changed from 'error' to 'logloss'. Explicitly set eval_metric if you'd like to restore the old behavior.\n"
     ]
    },
    {
     "name": "stderr",
     "output_type": "stream",
     "text": [
      "d:\\nasdaq\\venv\\lib\\site-packages\\xgboost\\sklearn.py:888: UserWarning: The use of label encoder in XGBClassifier is deprecated and will be removed in a future release. To remove this warning, do the following: 1) Pass option use_label_encoder=False when constructing XGBClassifier object; and 2) Encode your labels (y) as integers starting with 0, i.e. 0, 1, 2, ..., [num_class - 1].\n",
      "  warnings.warn(label_encoder_deprecation_msg, UserWarning)\n"
     ]
    },
    {
     "name": "stdout",
     "output_type": "stream",
     "text": [
      "[23:04:24] WARNING: C:/Users/Administrator/workspace/xgboost-win64_release_1.3.0/src/learner.cc:1061: Starting in XGBoost 1.3.0, the default evaluation metric used with the objective 'binary:logistic' was changed from 'error' to 'logloss'. Explicitly set eval_metric if you'd like to restore the old behavior.\n"
     ]
    },
    {
     "name": "stderr",
     "output_type": "stream",
     "text": [
      "d:\\nasdaq\\venv\\lib\\site-packages\\xgboost\\sklearn.py:888: UserWarning: The use of label encoder in XGBClassifier is deprecated and will be removed in a future release. To remove this warning, do the following: 1) Pass option use_label_encoder=False when constructing XGBClassifier object; and 2) Encode your labels (y) as integers starting with 0, i.e. 0, 1, 2, ..., [num_class - 1].\n",
      "  warnings.warn(label_encoder_deprecation_msg, UserWarning)\n"
     ]
    },
    {
     "name": "stdout",
     "output_type": "stream",
     "text": [
      "[23:04:24] WARNING: C:/Users/Administrator/workspace/xgboost-win64_release_1.3.0/src/learner.cc:1061: Starting in XGBoost 1.3.0, the default evaluation metric used with the objective 'binary:logistic' was changed from 'error' to 'logloss'. Explicitly set eval_metric if you'd like to restore the old behavior.\n"
     ]
    },
    {
     "name": "stderr",
     "output_type": "stream",
     "text": [
      "d:\\nasdaq\\venv\\lib\\site-packages\\xgboost\\sklearn.py:888: UserWarning: The use of label encoder in XGBClassifier is deprecated and will be removed in a future release. To remove this warning, do the following: 1) Pass option use_label_encoder=False when constructing XGBClassifier object; and 2) Encode your labels (y) as integers starting with 0, i.e. 0, 1, 2, ..., [num_class - 1].\n",
      "  warnings.warn(label_encoder_deprecation_msg, UserWarning)\n"
     ]
    },
    {
     "name": "stdout",
     "output_type": "stream",
     "text": [
      "[23:04:25] WARNING: C:/Users/Administrator/workspace/xgboost-win64_release_1.3.0/src/learner.cc:1061: Starting in XGBoost 1.3.0, the default evaluation metric used with the objective 'binary:logistic' was changed from 'error' to 'logloss'. Explicitly set eval_metric if you'd like to restore the old behavior.\n"
     ]
    },
    {
     "name": "stderr",
     "output_type": "stream",
     "text": [
      "d:\\nasdaq\\venv\\lib\\site-packages\\xgboost\\sklearn.py:888: UserWarning: The use of label encoder in XGBClassifier is deprecated and will be removed in a future release. To remove this warning, do the following: 1) Pass option use_label_encoder=False when constructing XGBClassifier object; and 2) Encode your labels (y) as integers starting with 0, i.e. 0, 1, 2, ..., [num_class - 1].\n",
      "  warnings.warn(label_encoder_deprecation_msg, UserWarning)\n"
     ]
    },
    {
     "name": "stdout",
     "output_type": "stream",
     "text": [
      "[23:04:25] WARNING: C:/Users/Administrator/workspace/xgboost-win64_release_1.3.0/src/learner.cc:1061: Starting in XGBoost 1.3.0, the default evaluation metric used with the objective 'binary:logistic' was changed from 'error' to 'logloss'. Explicitly set eval_metric if you'd like to restore the old behavior.\n",
      "predict time in 0.0075 second\n",
      "F1 score and accuracy score for training set: 0.8834 , 0.8952。\n",
      "predict time in 0.0040 second\n",
      "F1 score and accuracy score for test set: 0.5279 , 0.5968。\n"
     ]
    }
   ],
   "source": [
    "#  Set the parameters you want to auto-reference\n",
    "parameters = { 'n_estimators':[90,100,110],\n",
    "               'max_depth': [5,6,7],\n",
    "             }\n",
    "# Initialising the model\n",
    "clf = xgb.XGBClassifier(seed=42)\n",
    "f1_scorer = make_scorer(f1_score,pos_label=1)\n",
    "# Auto-referencing with grid search\n",
    "grid_obj = GridSearchCV(clf,\n",
    "                        scoring=f1_scorer,\n",
    "                        param_grid=parameters,\n",
    "                        cv=5)\n",
    "grid_obj = grid_obj.fit(X_train,y_train)\n",
    "# Get the best model\n",
    "clf = grid_obj.best_estimator_\n",
    "# print(clf)\n",
    "# View the final model results\n",
    "f1, acc = predict_labels(clf, X_train, y_train)\n",
    "print(\"F1 score and accuracy score for training set: {:.4f} , {:.4f}。\".format(f1 , acc))\n",
    "\n",
    "f1, acc = predict_labels(clf, X_test, y_test)\n",
    "print(\"F1 score and accuracy score for test set: {:.4f} , {:.4f}。\".format(f1 , acc))"
   ]
  },
  {
   "cell_type": "code",
   "execution_count": 35,
   "metadata": {},
   "outputs": [],
   "source": [
    "#SaveModel\n",
    "joblib.dump(clf, 'xgboost_model.model')\n",
    "#ReadModel\n",
    "xgb = joblib.load('xgboost_model.model')"
   ]
  },
  {
   "cell_type": "code",
   "execution_count": 36,
   "metadata": {},
   "outputs": [
    {
     "name": "stdout",
     "output_type": "stream",
     "text": [
      "          HTGD      ATGD  HM1_D  HM1_L  HM1_W  AM1_D  AM1_L  AM1_W  HM2_D  \\\n",
      "3070 -0.648762  0.979045      0      0      1      0      1      0      0   \n",
      "3071 -0.981593 -0.020889      0      0      1      0      1      0      1   \n",
      "3072  0.016901 -0.354200      0      0      1      0      0      1      0   \n",
      "3073  0.349732 -0.354200      0      0      1      0      1      0      1   \n",
      "3074  2.346720  0.312422      0      0      1      0      1      0      1   \n",
      "...        ...       ...    ...    ...    ...    ...    ...    ...    ...   \n",
      "3415  0.997877  0.961502      0      1      0      1      0      0      0   \n",
      "3416  2.189063 -1.564647      0      0      1      0      1      0      0   \n",
      "3417 -0.613727  1.733381      1      0      0      0      0      1      0   \n",
      "3418 -0.368483  0.049282      0      0      1      0      1      0      1   \n",
      "3419 -0.438553 -0.933109      1      0      0      0      0      1      0   \n",
      "\n",
      "      HM2_L  HM2_W  AM2_D  AM2_L  AM2_W  HM3_D  HM3_L  HM3_W  AM3_D  AM3_L  \\\n",
      "3070      1      0      1      0      0      0      1      0      0      0   \n",
      "3071      0      0      0      0      1      0      1      0      1      0   \n",
      "3072      1      0      0      1      0      1      0      0      0      1   \n",
      "3073      0      0      0      0      1      1      0      0      1      0   \n",
      "3074      0      0      1      0      0      0      0      1      0      0   \n",
      "...     ...    ...    ...    ...    ...    ...    ...    ...    ...    ...   \n",
      "3415      0      1      0      0      1      0      1      0      1      0   \n",
      "3416      0      1      0      1      0      0      0      1      0      1   \n",
      "3417      1      0      0      1      0      0      1      0      1      0   \n",
      "3418      0      0      0      1      0      1      0      0      0      0   \n",
      "3419      0      1      1      0      0      0      0      1      0      0   \n",
      "\n",
      "      AM3_W  \n",
      "3070      1  \n",
      "3071      0  \n",
      "3072      0  \n",
      "3073      0  \n",
      "3074      1  \n",
      "...     ...  \n",
      "3415      0  \n",
      "3416      0  \n",
      "3417      0  \n",
      "3418      1  \n",
      "3419      1  \n",
      "\n",
      "[350 rows x 20 columns]\n",
      "\n",
      "The True FTR is:\n",
      "      FTR        HomeTeam          AwayTeam        Date\n",
      "3070    0     Southampton        Man United  31/08/2019\n",
      "3071    0         Chelsea  Sheffield United  31/08/2019\n",
      "3072    1  Crystal Palace       Aston Villa  31/08/2019\n",
      "3073    1       Leicester       Bournemouth  31/08/2019\n",
      "3074    1        Man City          Brighton  31/08/2019\n",
      "...   ...             ...               ...         ...\n",
      "3415    0       Leicester        Man United  26/07/2020\n",
      "3416    1        Man City           Norwich  26/07/2020\n",
      "3417    0       Newcastle         Liverpool  26/07/2020\n",
      "3418    1     Southampton  Sheffield United  26/07/2020\n",
      "3419    0        West Ham       Aston Villa  26/07/2020\n",
      "\n",
      "[350 rows x 4 columns] \n",
      "The Prediction FTR is:[0 1 0 1 1 0 1 0 1 0 1 0 0 0 0 0 1 0 0 0 0 1 0 0 1 0 0 0 1 0 0 0 0 1 0 1 0\n",
      " 0 1 0 0 1 1 0 0 0 0 1 0 1 0 1 0 1 1 0 0 0 0 1 0 1 0 0 0 0 0 0 1 0 0 0 0 0\n",
      " 1 0 0 0 0 0 0 1 0 0 1 0 1 0 1 1 0 0 0 0 0 0 1 1 0 0 0 1 1 1 1 1 0 1 1 0 0\n",
      " 0 1 1 0 1 0 1 0 0 0 0 1 0 0 0 1 0 1 0 1 0 0 1 1 0 0 0 0 0 0 0 0 0 1 0 1 0\n",
      " 0 1 1 0 1 1 1 1 1 0 0 1 0 1 1 0 0 0 0 1 1 0 0 0 1 1 1 0 1 1 1 1 0 1 1 1 1\n",
      " 1 0 0 0 1 0 0 1 1 0 0 1 0 1 0 0 0 0 1 1 1 1 0 0 0 0 1 0 1 0 0 0 0 0 1 1 0\n",
      " 1 0 0 0 0 1 0 1 1 1 0 1 1 0 1 1 1 1 0 1 0 0 0 0 0 0 1 1 1 1 0 1 0 1 1 1 0\n",
      " 1 0 0 1 1 0 0 0 0 0 1 1 1 1 0 0 1 1 1 0 0 0 0 1 0 0 0 0 0 1 1 0 1 1 0 1 0\n",
      " 0 1 0 1 0 1 0 1 0 0 0 0 0 0 0 1 0 0 0 1 1 1 0 0 1 0 1 0 0 1 1 0 0 1 0 0 0\n",
      " 0 0 1 0 0 1 0 1 0 1 0 1 0 1 0 1 0]\n",
      "\n",
      "accurancy is 0.7914285714285715\n"
     ]
    }
   ],
   "source": [
    "# Then we try to make a prediction\n",
    "#sample1 = X_test.sample(n=5,random_state=2)\n",
    "#y_test_1 = y_test.sample(n=5,random_state=2)\n",
    "sample1 = X_all[2800:3150]\n",
    "y_test_1 = y_all[2800:3150]\n",
    "print(sample1)\n",
    "# Make predictions\n",
    "y_pred = xgb.predict(sample1)\n",
    "\n",
    "#merge 2 tables\n",
    "y_test_1=y_test_1.to_frame()\n",
    "from pandas import Series,DataFrame\n",
    "y_test_1=y_test_1.join(playing_stat_teams, lsuffix='_y_test_1', rsuffix='_playing_stat_teams')\n",
    "\n",
    "#calculate the accurancy\n",
    "#change them to arry, and sum them\n",
    "y_ftr = y_test_1.FTR.to_frame()\n",
    "y_ftr=y_ftr.to_numpy()\n",
    "y_pred_dataframe = pd.DataFrame(y_pred)\n",
    "y_pred_dataframe = y_pred_dataframe.to_numpy()\n",
    "a = y_pred_dataframe-y_ftr\n",
    "\n",
    "import time\n",
    "import numpy as np\n",
    "a[a < 0] = 1\n",
    "num = a.sum()\n",
    "print(\"\\nThe True FTR is:\\n%s \\nThe Prediction FTR is:%s\"%(y_test_1,y_pred))\n",
    "print(\"\\naccurancy is\", (350-num)/350)"
   ]
  },
  {
   "cell_type": "markdown",
   "metadata": {},
   "source": [
    "# Part III - Data visualization"
   ]
  },
  {
   "cell_type": "markdown",
   "metadata": {},
   "source": [
    "### We can create analyse insights (how many wins per seasons ? Is a team more successful outside than inside ?)"
   ]
  },
  {
   "cell_type": "markdown",
   "metadata": {},
   "source": [
    "### 1 - Visualization to see the number of wins per season"
   ]
  },
  {
   "cell_type": "code",
   "execution_count": 37,
   "metadata": {},
   "outputs": [],
   "source": [
    "#For every season, we add to a dictionnary the number of matchs won by adding all the won games when the team performs\n",
    "#at home and away\n",
    "def getChart(team):\n",
    "    file = \"football2\"\n",
    "    columns = [\"Div\", \"Date\", \"HomeTeam\", \"AwayTeam\", \"FTHG\", \"FTAG\", \"FTR\"]\n",
    "    df_list = list()\n",
    "    dict_to_Display = {}\n",
    "    i = 1\n",
    "\n",
    "    for csv_name in os.listdir(file):\n",
    "        df = pd.read_csv(os.path.join(file, csv_name), delimiter=',', usecols=columns)\n",
    "        df_list.append(df)\n",
    "        astonVilla_home_rows = df.loc[((df[\"HomeTeam\"] == team)) & ((df[\"FTR\"]) == \"H\")]\n",
    "        astonVilla_away_rows = df.loc[((df[\"AwayTeam\"] == team)) & ((df[\"FTR\"]) == \"A\")]\n",
    "        numberOfWins = astonVilla_home_rows.shape[0] + astonVilla_away_rows.shape[0]\n",
    "        dict_to_Display[my_dict[i]]= numberOfWins\n",
    "        i = i + 1\n",
    "        if(i == 11):\n",
    "            break\n",
    "    return dict_to_Display\n",
    "\n",
    "#For every season, we add to a dictionnary the number of matchs won when the team performs at home\n",
    "def getChartHome(team):\n",
    "    file = \"football2\"\n",
    "    columns = [\"Div\", \"Date\", \"HomeTeam\", \"AwayTeam\", \"FTHG\", \"FTAG\", \"FTR\"]\n",
    "    df_list = list()\n",
    "    dict_to_Display = {}\n",
    "    i = 1\n",
    "\n",
    "    for csv_name in os.listdir(file):\n",
    "        df = pd.read_csv(os.path.join(file, csv_name), delimiter=',', usecols=columns)\n",
    "        df_list.append(df)\n",
    "        astonVilla_away_rows = df.loc[((df[\"HomeTeam\"] == team)) & ((df[\"FTR\"]) == \"H\")]\n",
    "        numberOfWins = astonVilla_away_rows.shape[0]\n",
    "        dict_to_Display[my_dict[i]]= numberOfWins\n",
    "        i = i + 1\n",
    "        if(i == 11):\n",
    "            break\n",
    "    return dict_to_Display\n",
    "\n",
    "#For every season, we add to a dictionnary the number of matchs won when the team performs away\n",
    "def getChartAway(team):\n",
    "    file = \"football2\"\n",
    "    columns = [\"Div\", \"Date\", \"HomeTeam\", \"AwayTeam\", \"FTHG\", \"FTAG\", \"FTR\"]\n",
    "    df_list = list()\n",
    "    dict_to_Display = {}\n",
    "    i = 1\n",
    "\n",
    "    for csv_name in os.listdir(file):\n",
    "        df = pd.read_csv(os.path.join(file, csv_name), delimiter=',', usecols=columns)\n",
    "        df_list.append(df)\n",
    "        astonVilla_away_rows = df.loc[((df[\"AwayTeam\"] == team)) & ((df[\"FTR\"]) == \"A\")]\n",
    "        numberOfWins = astonVilla_away_rows.shape[0]\n",
    "        dict_to_Display[my_dict[i]]= numberOfWins\n",
    "        i = i + 1\n",
    "        if(i == 11):\n",
    "            break\n",
    "    return dict_to_Display"
   ]
  },
  {
   "cell_type": "code",
   "execution_count": 38,
   "metadata": {},
   "outputs": [
    {
     "name": "stdout",
     "output_type": "stream",
     "text": [
      "----------------Number of wins for  Aston Villa club from 2010 season to 2020 season-------------------\n"
     ]
    },
    {
     "data": {
      "image/png": "[encoded data removed]",
      "text/plain": [
       "<Figure size 1440x216 with 1 Axes>"
      ]
     },
     "metadata": {},
     "output_type": "display_data"
    },
    {
     "name": "stdout",
     "output_type": "stream",
     "text": [
      "\n",
      "\n",
      "\n",
      "----------------Number of wins for  Arsenal club from 2010 season to 2020 season-------------------\n"
     ]
    },
    {
     "data": {
      "image/png": "[encoded data removed]",
      "text/plain": [
       "<Figure size 1440x216 with 1 Axes>"
      ]
     },
     "metadata": {},
     "output_type": "display_data"
    },
    {
     "name": "stdout",
     "output_type": "stream",
     "text": [
      "\n",
      "\n",
      "\n",
      "----------------Number of wins for  West Ham club from 2010 season to 2020 season-------------------\n"
     ]
    },
    {
     "data": {
      "image/png": "[encoded data removed]",
      "text/plain": [
       "<Figure size 1440x216 with 1 Axes>"
      ]
     },
     "metadata": {},
     "output_type": "display_data"
    },
    {
     "name": "stdout",
     "output_type": "stream",
     "text": [
      "\n",
      "\n",
      "\n",
      "----------------Number of wins for  Everton club from 2010 season to 2020 season-------------------\n"
     ]
    },
    {
     "data": {
      "image/png": "[encoded data removed]",
      "text/plain": [
       "<Figure size 1440x216 with 1 Axes>"
      ]
     },
     "metadata": {},
     "output_type": "display_data"
    },
    {
     "name": "stdout",
     "output_type": "stream",
     "text": [
      "\n",
      "\n",
      "\n"
     ]
    }
   ],
   "source": [
    "list_of_teams = [\"Aston Villa\", \"Arsenal\", \"West Ham\", \"Everton\"]\n",
    "\n",
    "for i in list_of_teams:\n",
    "    dictionnary = getChart(i)\n",
    "    lists = sorted(dictionnary.items()) # sorted by key, return a list of tuples\n",
    "    plt.rcParams[\"figure.figsize\"] = (20,3)\n",
    "    x, y = zip(*lists) # unpack a list of pairs into two tuples\n",
    "    plt.plot(x, y)\n",
    "    print(\"----------------Number of wins for \", i, \"club from 2010 season to 2020 season-------------------\")\n",
    "    plt.show()\n",
    "    print(\"\\n\\n\")"
   ]
  },
  {
   "cell_type": "markdown",
   "metadata": {},
   "source": [
    "### 2 - Visualization if a team is more successful away or at home\n",
    "****Win rate when the team is away****"
   ]
  },
  {
   "cell_type": "code",
   "execution_count": 39,
   "metadata": {},
   "outputs": [
    {
     "name": "stdout",
     "output_type": "stream",
     "text": [
      "----------------Number of oustide wins for  Everton club from 2010 season to 2020 season-------------------\n"
     ]
    },
    {
     "data": {
      "image/png": "[encoded data removed]",
      "text/plain": [
       "<Figure size 1440x216 with 1 Axes>"
      ]
     },
     "metadata": {},
     "output_type": "display_data"
    },
    {
     "name": "stdout",
     "output_type": "stream",
     "text": [
      "\n",
      "\n",
      "\n"
     ]
    }
   ],
   "source": [
    "list_of_teams = [\"Everton\"]\n",
    "\n",
    "for i in list_of_teams:\n",
    "    dictionnary = getChartAway(i)\n",
    "    lists = sorted(dictionnary.items())\n",
    "    plt.rcParams[\"figure.figsize\"] = (20,3)\n",
    "    x, y = zip(*lists)\n",
    "    plt.plot(x, y)\n",
    "    print(\"----------------Number of oustide wins for \", i, \"club from 2010 season to 2020 season-------------------\")\n",
    "    plt.show()\n",
    "    print(\"\\n\\n\")"
   ]
  },
  {
   "cell_type": "markdown",
   "metadata": {},
   "source": [
    "****Win rate when the team is at home****"
   ]
  },
  {
   "cell_type": "code",
   "execution_count": 40,
   "metadata": {},
   "outputs": [
    {
     "name": "stdout",
     "output_type": "stream",
     "text": [
      "----------------Number of inside wins for  Everton club from 2010 season to 2020 season-------------------\n"
     ]
    },
    {
     "data": {
      "image/png": "[encoded data removed]",
      "text/plain": [
       "<Figure size 1440x216 with 1 Axes>"
      ]
     },
     "metadata": {},
     "output_type": "display_data"
    },
    {
     "name": "stdout",
     "output_type": "stream",
     "text": [
      "\n",
      "\n",
      "\n"
     ]
    }
   ],
   "source": [
    "list_of_teams = [\"Everton\"]\n",
    "\n",
    "for i in list_of_teams:\n",
    "    dictionnary = getChartHome(i)\n",
    "    lists = sorted(dictionnary.items())\n",
    "    plt.rcParams[\"figure.figsize\"] = (20,3)\n",
    "    x, y = zip(*lists)\n",
    "    plt.plot(x, y)\n",
    "    print(\"----------------Number of inside wins for \", i, \"club from 2010 season to 2020 season-------------------\")\n",
    "    plt.show()\n",
    "    print(\"\\n\\n\")"
   ]
  },
  {
   "cell_type": "markdown",
   "metadata": {},
   "source": [
    "### Here, we can check a visualization concerning our predictions. We can predict, for a season the win rate of a team. Here is for Cheslay team for example."
   ]
  },
  {
   "cell_type": "code",
   "execution_count": 59,
   "metadata": {},
   "outputs": [
    {
     "name": "stdout",
     "output_type": "stream",
     "text": [
      "----------------Number of inside wins for Chelsea club from 2010 season to 2020 season-------------------\n"
     ]
    },
    {
     "data": {
      "image/png": "[encoded data removed]",
      "text/plain": [
       "<Figure size 1440x216 with 1 Axes>"
      ]
     },
     "metadata": {},
     "output_type": "display_data"
    },
    {
     "name": "stdout",
     "output_type": "stream",
     "text": [
      "\n",
      "\n",
      "\n"
     ]
    }
   ],
   "source": [
    "from collections import OrderedDict\n",
    "\n",
    "ex = y_test_1.loc[((y_test_1[\"HomeTeam\"] == \"Chelsea\")) | ((y_test_1[\"AwayTeam\"] == \"Chelsea\"))]\n",
    "ftr = \"\"\n",
    "teamHome = \"\"\n",
    "teamAway = \"\"\n",
    "my_dict_predict = {}\n",
    "a = 1\n",
    "\n",
    "for i in range(len(ex)):\n",
    "    numberOfWeek = \"w\" + str(a)\n",
    "    ftr = ex.iloc[i,0]\n",
    "    teamHome = ex.iloc[i,1]\n",
    "    teamAway = ex.iloc[i,2]\n",
    "    if (ftr == 0 and teamAway == \"Chelsea\"):\n",
    "        my_dict_predict[numberOfWeek]=1\n",
    "    elif (ftr == 1 and teamHome == \"Chelsea\"): \n",
    "        my_dict_predict[numberOfWeek]=1\n",
    "    else:\n",
    "        my_dict_predict[numberOfWeek]=0\n",
    "    a = a + 1\n",
    "    \n",
    "lists = sorted(my_dict_predict.items())\n",
    "plt.rcParams[\"figure.figsize\"] = (20,3)\n",
    "x, y = zip(*lists)\n",
    "plt.plot(x, y)\n",
    "print(\"----------------Number of wins for Chelsea club from 2010 season to 2020 season-------------------\")\n",
    "plt.show()\n",
    "print(\"\\n\\n\")"
   ]
  },
  {
   "cell_type": "markdown",
   "metadata": {},
   "source": [
    "### 1.00 corresponds to a win and 0.00 to a lose of cheslsay, and w corresponds to week. We can see that they are going to bee in the best shape from week 24 to 29 and week 4 to 5 for a total of 10 games"
   ]
  }
 ],
 "metadata": {
  "kernelspec": {
   "display_name": "Python 3",
   "language": "python",
   "name": "python3"
  },
  "language_info": {
   "codemirror_mode": {
    "name": "ipython",
    "version": 3
   },
   "file_extension": ".py",
   "mimetype": "text/x-python",
   "name": "python",
   "nbconvert_exporter": "python",
   "pygments_lexer": "ipython3",
   "version": "3.8.2"
  }
 },
 "nbformat": 4,
 "nbformat_minor": 4
}
